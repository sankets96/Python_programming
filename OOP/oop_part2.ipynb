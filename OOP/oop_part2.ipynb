{
  "nbformat": 4,
  "nbformat_minor": 0,
  "metadata": {
    "colab": {
      "provenance": []
    },
    "kernelspec": {
      "name": "python3",
      "display_name": "Python 3"
    },
    "language_info": {
      "name": "python"
    }
  },
  "cells": [
    {
      "cell_type": "markdown",
      "source": [
        "**Acess control**\n",
        "\n",
        "*   Public Access Modifier\n",
        "*   Protected Access Modifier\n",
        "\n",
        "*   Private Access Modifier\n",
        "\n",
        "\n",
        "\n"
      ],
      "metadata": {
        "id": "uJF_KbiJvo44"
      }
    },
    {
      "cell_type": "code",
      "source": [
        "#public:\n",
        "class demo:\n",
        "  def __init__(self,n):\n",
        "    self.name= n\n",
        "\n",
        "  def display(self):\n",
        "    print('Name is {}'.format(self.name))\n",
        "\n",
        "c = demo('sanket')\n",
        "c.display()"
      ],
      "metadata": {
        "colab": {
          "base_uri": "https://localhost:8080/"
        },
        "id": "pXKvy1Kxv3e0",
        "outputId": "61557260-ad70-433d-a5fd-1bbed787bbc1"
      },
      "execution_count": null,
      "outputs": [
        {
          "output_type": "stream",
          "name": "stdout",
          "text": [
            "Name is sanket\n"
          ]
        }
      ]
    },
    {
      "cell_type": "markdown",
      "source": [
        "PROTECTED: The members of a class that are declared protected are only accessible to a class derived from it. Data members of a class are declared protected by adding a single underscore ‘_’ symbol before the data member of that class."
      ],
      "metadata": {
        "id": "i5eoZGBXwV-Q"
      }
    },
    {
      "cell_type": "code",
      "source": [
        "class demo:\n",
        "  _name = None\n",
        "  _roll = None\n",
        "  def __init__(self,n,m):\n",
        "    self._name =n\n",
        "    self._roll = m\n",
        "\n",
        "\n",
        "  def _display(self):\n",
        "    print(self._name,\" \",self._roll)\n",
        "\n",
        "\n",
        "\n",
        "# c2 = demo('sanket',12)\n",
        "# c2._display()\n",
        "\n"
      ],
      "metadata": {
        "id": "5KkHpyMfwInL"
      },
      "execution_count": null,
      "outputs": []
    },
    {
      "cell_type": "code",
      "source": [
        "class dm(demo):\n",
        "  def __init__(self,n,m):\n",
        "    print('Child clas constructor')\n",
        "    demo.__init__(self,n,m)\n",
        "    print(\"Return to child class constuctor\")\n",
        "\n",
        "\n",
        "  def dis(self):\n",
        "    self._display()\n",
        "\n",
        "\n",
        "c3 = dm('sanket',22)"
      ],
      "metadata": {
        "colab": {
          "base_uri": "https://localhost:8080/"
        },
        "id": "0FIQdNDHw9SK",
        "outputId": "01c9c340-1566-4bae-a03d-5ff9a0637b51"
      },
      "execution_count": null,
      "outputs": [
        {
          "output_type": "stream",
          "name": "stdout",
          "text": [
            "Child clas constructor\n",
            "Return to child class constuctor\n"
          ]
        }
      ]
    },
    {
      "cell_type": "code",
      "source": [
        "c3.dis()"
      ],
      "metadata": {
        "colab": {
          "base_uri": "https://localhost:8080/"
        },
        "id": "KOhShWscxLgu",
        "outputId": "5caecca2-1a1b-4d78-d0a9-e0af64943dd9"
      },
      "execution_count": null,
      "outputs": [
        {
          "output_type": "stream",
          "name": "stdout",
          "text": [
            "sanket   22\n"
          ]
        }
      ]
    },
    {
      "cell_type": "markdown",
      "source": [
        "Private Access Modifier:\n",
        "The members of a class that are declared private are accessible within the class only, private access modifier is the most secure access modifier. Data members of a class are declared private by adding a double underscore ‘__’ symbol before the data member of that class."
      ],
      "metadata": {
        "id": "fiZU9mfQyUZ7"
      }
    },
    {
      "cell_type": "code",
      "source": [
        "class student:\n",
        "  __name= None\n",
        "  __id = None\n",
        "  def __init__(self,n,m):\n",
        "    self.__name = n\n",
        "    self.__id = m\n",
        "  #private method#\n",
        "  def __display(self):\n",
        "    print('Private method from parent class')\n",
        "    print('display ',self.__name,\" \",self.__id)\n",
        "\n",
        "\n",
        "class dd(student):\n",
        "\n",
        "\n",
        "  def calling(self):\n",
        "    print('child clas function')\n",
        "    student._student__display(self)\n",
        "    print('return to child class method')\n",
        "\n",
        "\n",
        "s = student('ss',12)\n",
        "#s.__display()          ->this give an error becox method is private\n",
        "\n",
        "\n",
        "\n",
        "s1 = dd('sank',12345)\n",
        "s1.calling()\n",
        "\n",
        "\n"
      ],
      "metadata": {
        "colab": {
          "base_uri": "https://localhost:8080/"
        },
        "id": "PR_ul2mdxm42",
        "outputId": "00c9340f-5e0c-4a6a-a1c5-b8eea1bc6188"
      },
      "execution_count": null,
      "outputs": [
        {
          "output_type": "stream",
          "name": "stdout",
          "text": [
            "child clas function\n",
            "Private method from parent class\n",
            "display  sank   12345\n",
            "return to child class method\n"
          ]
        }
      ]
    },
    {
      "cell_type": "code",
      "source": [],
      "metadata": {
        "id": "suNxetYPzFfW"
      },
      "execution_count": null,
      "outputs": []
    },
    {
      "cell_type": "markdown",
      "source": [
        "Message passing also shares only immutable objects (the messages) between modules, whereas shared memory requires sharing mutable objects,"
      ],
      "metadata": {
        "id": "ZlbYMqW_0gaK"
      }
    },
    {
      "cell_type": "markdown",
      "source": [
        "**Name mangling**\n",
        "\n",
        "*   In name mangling process any identifier with two leading underscore and one trailing underscore is textually replaced with _classname__identifier where classname is the name of the current class. It means that any identifier of the form __geek (at least two leading underscores or at most one trailing underscore) is replaced with _classname__geek, where classname is the current class name with leading underscore(s) stripped.\n",
        "\n",
        "\n"
      ],
      "metadata": {
        "id": "CkHGxDtu0rTA"
      }
    },
    {
      "cell_type": "code",
      "source": [
        "class bank:\n",
        "  def __init__(self,b):\n",
        "    self.__balance = b   #private var\n",
        "\n",
        "\n",
        "  def display(self):\n",
        "    print(self.__balance)\n",
        "\n",
        "\n",
        "b = bank(1200)"
      ],
      "metadata": {
        "id": "u797LKGM0g7e"
      },
      "execution_count": null,
      "outputs": []
    },
    {
      "cell_type": "code",
      "source": [
        "b.display()"
      ],
      "metadata": {
        "colab": {
          "base_uri": "https://localhost:8080/"
        },
        "id": "rGFKMM3I1DK4",
        "outputId": "1f010ad6-7179-47d4-b16c-beacdf39e378"
      },
      "execution_count": null,
      "outputs": [
        {
          "output_type": "stream",
          "name": "stdout",
          "text": [
            "1200\n"
          ]
        }
      ]
    },
    {
      "cell_type": "code",
      "source": [
        "b.__balance#   this gives error becoz private var can store in memory _classname__varname"
      ],
      "metadata": {
        "colab": {
          "base_uri": "https://localhost:8080/",
          "height": 175
        },
        "id": "vYTr-GXG1FnY",
        "outputId": "09c52324-d6ea-4bd7-9fca-59cc1a310fb5"
      },
      "execution_count": null,
      "outputs": [
        {
          "output_type": "error",
          "ename": "AttributeError",
          "evalue": "ignored",
          "traceback": [
            "\u001b[0;31m---------------------------------------------------------------------------\u001b[0m",
            "\u001b[0;31mAttributeError\u001b[0m                            Traceback (most recent call last)",
            "\u001b[0;32m<ipython-input-32-f99ec99f750b>\u001b[0m in \u001b[0;36m<cell line: 1>\u001b[0;34m()\u001b[0m\n\u001b[0;32m----> 1\u001b[0;31m \u001b[0mb\u001b[0m\u001b[0;34m.\u001b[0m\u001b[0m__balance\u001b[0m\u001b[0;34m\u001b[0m\u001b[0;34m\u001b[0m\u001b[0m\n\u001b[0m",
            "\u001b[0;31mAttributeError\u001b[0m: 'bank' object has no attribute '__balance'"
          ]
        }
      ]
    },
    {
      "cell_type": "code",
      "source": [
        "b._bank__balance"
      ],
      "metadata": {
        "colab": {
          "base_uri": "https://localhost:8080/"
        },
        "id": "as7RpxN61KN8",
        "outputId": "6083ed56-9f2e-4117-fb88-dd8da2a0a7ca"
      },
      "execution_count": null,
      "outputs": [
        {
          "output_type": "execute_result",
          "data": {
            "text/plain": [
              "1200"
            ]
          },
          "metadata": {},
          "execution_count": 33
        }
      ]
    },
    {
      "cell_type": "markdown",
      "source": [
        "**Method resolution order in Python Inheritance**"
      ],
      "metadata": {
        "id": "pdKmbJiD2Dtd"
      }
    },
    {
      "cell_type": "markdown",
      "source": [
        "Method Resolution Order(MRO) it denotes the way a programming language resolves a method or attribute. Python supports classes inheriting from other classes. The class being inherited is called the Parent or Superclass, while the class that inherits is called the Child or Subclass. In python, method resolution order defines the order in which the base classes are searched when executing a method"
      ],
      "metadata": {
        "id": "YEpmuDes2Jx1"
      }
    },
    {
      "cell_type": "code",
      "source": [
        "# Python program showing\n",
        "# how MRO works\n",
        "\n",
        "class A:\n",
        "\tdef rk(self):\n",
        "\t\tprint(\" In class A\")\n",
        "class B(A):\n",
        "\tdef rk(self):\n",
        "\t\tprint(\" In class B\")\n",
        "\n",
        "r = B()\n",
        "r.rk()\n"
      ],
      "metadata": {
        "colab": {
          "base_uri": "https://localhost:8080/"
        },
        "id": "ufgSkpjl1V5C",
        "outputId": "b3ef62cf-2cf4-40dc-b3f3-88b657397bb0"
      },
      "execution_count": null,
      "outputs": [
        {
          "output_type": "stream",
          "name": "stdout",
          "text": [
            " In class B\n"
          ]
        }
      ]
    },
    {
      "cell_type": "code",
      "source": [
        "# Python program showing\n",
        "# how MRO works\n",
        "\n",
        "class A:\n",
        "\tdef rk(self):\n",
        "\t\tprint(\" In class A\")\n",
        "class B(A):\n",
        "\tdef rk(self):\n",
        "\t\tprint(\" In class B\")\n",
        "class C(A):\n",
        "\tdef rk(self):\n",
        "\t\tprint(\"In class C\")\n",
        "\n",
        "# classes ordering\n",
        "class D(B, C):\n",
        "\tpass\n",
        "\n",
        "r = D()         #it depend which class inherit fst\n",
        "r.rk()\n"
      ],
      "metadata": {
        "colab": {
          "base_uri": "https://localhost:8080/"
        },
        "id": "l6ezg4uh22Gk",
        "outputId": "755d0bfe-788e-4710-b014-f5a5b8629065"
      },
      "execution_count": null,
      "outputs": [
        {
          "output_type": "stream",
          "name": "stdout",
          "text": [
            " In class B\n"
          ]
        }
      ]
    },
    {
      "cell_type": "code",
      "source": [
        "#same above example\n",
        "# Python program showing\n",
        "# how MRO works\n",
        "\n",
        "class A:\n",
        "\tdef rk(self):\n",
        "\t\tprint(\" In class A\")\n",
        "class B(A):\n",
        "\tdef rk(self):\n",
        "\t\tprint(\" In class B\")\n",
        "class C(A):\n",
        "\tdef rk(self):\n",
        "\t\tprint(\"In class C\")\n",
        "\n",
        "# classes ordering\n",
        "class D(C,B):\n",
        "\tpass\n",
        "\n",
        "r = D()         #it depend which class inherit fst\n",
        "r.rk()\n",
        "\n"
      ],
      "metadata": {
        "colab": {
          "base_uri": "https://localhost:8080/"
        },
        "id": "pe_fMjtr3zW5",
        "outputId": "c0332d37-e9b8-42e3-d2e2-044d1cc3a894"
      },
      "execution_count": null,
      "outputs": [
        {
          "output_type": "stream",
          "name": "stdout",
          "text": [
            "In class C\n"
          ]
        }
      ]
    },
    {
      "cell_type": "markdown",
      "source": [
        "**Meta class**\n",
        "\n",
        "*  A metaclass in Python is a class of a class that defines how a class behaves. A class is itself an instance of a metaclass. A class in Python defines how the instance of the class will behave.\n",
        "\n",
        "*   metaprogramming is the code that manipulates code.\n",
        "\n",
        "\n",
        "\n",
        "\n",
        "\n"
      ],
      "metadata": {
        "id": "49ZgshBO4P35"
      }
    },
    {
      "cell_type": "code",
      "source": [
        "num = 23\n",
        "print(\"Type of num is:\", type(num))\n",
        "\n",
        "lst = [1, 2, 4]\n",
        "print(\"Type of lst is:\", type(lst))\n",
        "\n",
        "name = \"Atul\"\n",
        "print(\"Type of name is:\", type(name))\n",
        "#Every type in Python is defined by Class."
      ],
      "metadata": {
        "id": "8LbPRbhD4AIb",
        "colab": {
          "base_uri": "https://localhost:8080/"
        },
        "outputId": "6f1e9c70-3d05-4857-b385-19f91811143c"
      },
      "execution_count": null,
      "outputs": [
        {
          "output_type": "stream",
          "name": "stdout",
          "text": [
            "Type of num is: <class 'int'>\n",
            "Type of lst is: <class 'list'>\n",
            "Type of name is: <class 'str'>\n"
          ]
        }
      ]
    },
    {
      "cell_type": "code",
      "source": [
        "class Student:\n",
        "\tpass\n",
        "stu_obj = Student()\n",
        "\n",
        "# Print type of object of Student class\n",
        "print(\"Type of stu_obj is:\", type(stu_obj))\n",
        "type(Student)\n"
      ],
      "metadata": {
        "colab": {
          "base_uri": "https://localhost:8080/"
        },
        "id": "WVtYfo8NNp2A",
        "outputId": "d8a99c9d-7dff-4f18-ed63-f241c1bebfd7"
      },
      "execution_count": null,
      "outputs": [
        {
          "output_type": "stream",
          "name": "stdout",
          "text": [
            "Type of stu_obj is: <class '__main__.Student'>\n"
          ]
        },
        {
          "output_type": "execute_result",
          "data": {
            "text/plain": [
              "type"
            ]
          },
          "metadata": {},
          "execution_count": 5
        }
      ]
    },
    {
      "cell_type": "markdown",
      "source": [
        "A Class is also an object, and just like any other object, it’s an instance of something called Metaclass"
      ],
      "metadata": {
        "id": "Z4XUCstVN5NR"
      }
    },
    {
      "cell_type": "markdown",
      "source": [
        "In simple word class is an object in python and this class instanciate another class this classs is Metaclasss\n"
      ],
      "metadata": {
        "id": "VLBYbg6qQN_v"
      }
    },
    {
      "cell_type": "code",
      "source": [
        "#create class with dynamic\n",
        "a= type('Python',(),{})\n",
        "type(a)"
      ],
      "metadata": {
        "colab": {
          "base_uri": "https://localhost:8080/"
        },
        "id": "Uu-RSPw9OMQJ",
        "outputId": "505f12bd-a340-4fde-d6c6-182429c1694b"
      },
      "execution_count": null,
      "outputs": [
        {
          "output_type": "execute_result",
          "data": {
            "text/plain": [
              "type"
            ]
          },
          "metadata": {},
          "execution_count": 6
        }
      ]
    },
    {
      "cell_type": "code",
      "source": [
        "type(a())"
      ],
      "metadata": {
        "colab": {
          "base_uri": "https://localhost:8080/"
        },
        "id": "l2aGhp5rP-sQ",
        "outputId": "009e1ae3-bbad-42c7-dad8-c968282d40fa"
      },
      "execution_count": null,
      "outputs": [
        {
          "output_type": "execute_result",
          "data": {
            "text/plain": [
              "__main__.Python"
            ]
          },
          "metadata": {},
          "execution_count": 7
        }
      ]
    },
    {
      "cell_type": "code",
      "source": [
        "a= type('Python',(),{'x':10})\n",
        "a.x"
      ],
      "metadata": {
        "colab": {
          "base_uri": "https://localhost:8080/"
        },
        "id": "AUHCl_z2QAep",
        "outputId": "cf7e47e5-f3e8-45d8-e0ee-abd35e34a877"
      },
      "execution_count": null,
      "outputs": [
        {
          "output_type": "execute_result",
          "data": {
            "text/plain": [
              "10"
            ]
          },
          "metadata": {},
          "execution_count": 8
        }
      ]
    },
    {
      "cell_type": "code",
      "source": [
        "#create metaclass\n",
        "class Meta(type):\n",
        "  pass\n",
        "\n",
        "\n",
        "class demo(metaclass=Meta):\n",
        "  pass"
      ],
      "metadata": {
        "id": "sVXjTHH_QJQj"
      },
      "execution_count": null,
      "outputs": []
    },
    {
      "cell_type": "code",
      "source": [
        "from functools import wraps\n",
        "\n",
        "def debug(func):\n",
        "\t'''decorator for debugging passed function'''\n",
        "\n",
        "\t@wraps(func)\n",
        "\tdef wrapper(*args, **kwargs):\n",
        "\t\tprint(\"Full name of this method:\", func.__qualname__)\n",
        "\t\treturn func(*args, **kwargs)\n",
        "\treturn wrapper\n",
        "\n",
        "def debugmethods(cls):\n",
        "\t'''class decorator make use of debug decorator\n",
        "\tto debug class methods '''\n",
        "\n",
        "\tfor key, val in vars(cls).items():\n",
        "\t\tif callable(val):\n",
        "\t\t\tsetattr(cls, key, debug(val))\n",
        "\treturn cls\n",
        "\n",
        "class debugMeta(type):\n",
        "\t'''meta class which feed created class object\n",
        "\tto debugmethod to get debug functionality\n",
        "\tenabled objects'''\n",
        "\n",
        "\tdef __new__(cls, clsname, bases, clsdict):\n",
        "\t\tobj = super().__new__(cls, clsname, bases, clsdict)\n",
        "\t\tobj = debugmethods(obj)\n",
        "\t\treturn obj\n",
        "\n",
        "# base class with metaclass 'debugMeta'\n",
        "# now all the subclass of this\n",
        "# will have debugging applied\n",
        "class Base(metaclass=debugMeta):pass\n",
        "\n",
        "# inheriting Base\n",
        "class Calc(Base):\n",
        "\tdef add(self, x, y):\n",
        "\t\treturn x+y\n",
        "\n",
        "# inheriting Calc\n",
        "class Calc_adv(Calc):\n",
        "\tdef mul(self, x, y):\n",
        "\t\treturn x*y\n",
        "\n",
        "# Now Calc_adv object showing\n",
        "# debugging behaviour\n",
        "mycal = Calc_adv()\n",
        "print(mycal.mul(2, 3))\n"
      ],
      "metadata": {
        "colab": {
          "base_uri": "https://localhost:8080/"
        },
        "id": "aq-nrDqPQqG1",
        "outputId": "9009947e-9c38-4f20-c4df-8521e22f6538"
      },
      "execution_count": null,
      "outputs": [
        {
          "output_type": "stream",
          "name": "stdout",
          "text": [
            "Full name of this method: Calc_adv.mul\n",
            "6\n"
          ]
        }
      ]
    },
    {
      "cell_type": "markdown",
      "source": [
        "**Slots**"
      ],
      "metadata": {
        "id": "JW0QRgwLRqJO"
      }
    },
    {
      "cell_type": "code",
      "source": [
        "pip install Pympler"
      ],
      "metadata": {
        "colab": {
          "base_uri": "https://localhost:8080/"
        },
        "id": "gBOW29d1Ssdm",
        "outputId": "e3650dde-34a0-425a-9ce1-ce949ebf6df1"
      },
      "execution_count": null,
      "outputs": [
        {
          "output_type": "stream",
          "name": "stdout",
          "text": [
            "Collecting Pympler\n",
            "  Downloading Pympler-1.0.1-py3-none-any.whl (164 kB)\n",
            "\u001b[?25l     \u001b[90m━━━━━━━━━━━━━━━━━━━━━━━━━━━━━━━━━━━━━━━━\u001b[0m \u001b[32m0.0/164.8 kB\u001b[0m \u001b[31m?\u001b[0m eta \u001b[36m-:--:--\u001b[0m\r\u001b[2K     \u001b[91m━━━━━━━━━━━━━━━━━━━\u001b[0m\u001b[91m╸\u001b[0m\u001b[90m━━━━━━━━━━━━━━━━━━━━\u001b[0m \u001b[32m81.9/164.8 kB\u001b[0m \u001b[31m2.3 MB/s\u001b[0m eta \u001b[36m0:00:01\u001b[0m\r\u001b[2K     \u001b[90m━━━━━━━━━━━━━━━━━━━━━━━━━━━━━━━━━━━━━━━━\u001b[0m \u001b[32m164.8/164.8 kB\u001b[0m \u001b[31m3.1 MB/s\u001b[0m eta \u001b[36m0:00:00\u001b[0m\n",
            "\u001b[?25hInstalling collected packages: Pympler\n",
            "Successfully installed Pympler-1.0.1\n"
          ]
        }
      ]
    },
    {
      "cell_type": "code",
      "source": [
        "import timeit\n",
        "from pympler import asizeof"
      ],
      "metadata": {
        "id": "HfhTh0WMRSLw"
      },
      "execution_count": null,
      "outputs": []
    },
    {
      "cell_type": "code",
      "source": [
        "class ABC:\n",
        "  def fn(self):\n",
        "    print('fn')\n",
        "\n",
        "\n",
        "obj = ABC()\n",
        "obj.fn()"
      ],
      "metadata": {
        "colab": {
          "base_uri": "https://localhost:8080/"
        },
        "id": "ASUnJ4TaShsd",
        "outputId": "11013793-96d6-4043-cb1d-04b0188ba215"
      },
      "execution_count": null,
      "outputs": [
        {
          "output_type": "stream",
          "name": "stdout",
          "text": [
            "fn\n"
          ]
        }
      ]
    },
    {
      "cell_type": "code",
      "source": [
        "obj.first = 'sanket'            #after creatring obj u can create instance var after\n",
        "obj.second = 'suryavanshi'\n",
        "obj.third = 'sssss'      #it can allow in obnly pyhton"
      ],
      "metadata": {
        "id": "G5kr0orvS2AG"
      },
      "execution_count": null,
      "outputs": []
    },
    {
      "cell_type": "code",
      "source": [
        "obj.__dict__           #obj artrributes not store in dict format"
      ],
      "metadata": {
        "colab": {
          "base_uri": "https://localhost:8080/"
        },
        "id": "fq9wKkvbTEr4",
        "outputId": "7ebc8acd-4bf9-46be-eb47-87bed28f30ae"
      },
      "execution_count": null,
      "outputs": [
        {
          "output_type": "execute_result",
          "data": {
            "text/plain": [
              "{'first': 'sanket', 'second': 'suryavanshi', 'third': 'sssss'}"
            ]
          },
          "metadata": {},
          "execution_count": 28
        }
      ]
    },
    {
      "cell_type": "markdown",
      "source": [
        "Slots is prevent dynamic atrribute creating in python"
      ],
      "metadata": {
        "id": "PxrzIpFyTqPn"
      }
    },
    {
      "cell_type": "markdown",
      "source": [
        "Benefits\n",
        "\n",
        "*   Speed\n",
        "*   Memory\n",
        "\n"
      ],
      "metadata": {
        "id": "tMcZ4MAJT5AO"
      }
    },
    {
      "cell_type": "code",
      "source": [
        "class s:\n",
        "  __slots__ =  ('first','second','third')\n",
        "\n",
        "ob = s()"
      ],
      "metadata": {
        "id": "BfGuoLLhTTGR"
      },
      "execution_count": null,
      "outputs": []
    },
    {
      "cell_type": "code",
      "source": [
        "def create_sl():\n",
        "  obj1 = s()\n",
        "  ob.first = 'sanket'\n",
        "  ob.second = 'san'\n",
        "  ob.third = 'ss'"
      ],
      "metadata": {
        "id": "L1PtGW0jUPQs"
      },
      "execution_count": null,
      "outputs": []
    },
    {
      "cell_type": "code",
      "source": [
        "def create_abc():\n",
        "  obj2 = ABC()\n",
        "  ob.first = 'sanket'\n",
        "  ob.second = 'san'\n",
        "  ob.third = 'ss'"
      ],
      "metadata": {
        "id": "rdx4ZXVpUW74"
      },
      "execution_count": null,
      "outputs": []
    },
    {
      "cell_type": "code",
      "source": [
        "%%timeit\n",
        "create_sl()     #it require more time"
      ],
      "metadata": {
        "colab": {
          "base_uri": "https://localhost:8080/"
        },
        "id": "T-dlMcpqUqNf",
        "outputId": "433af388-aef0-4c9b-fa9e-00f39c548114"
      },
      "execution_count": null,
      "outputs": [
        {
          "output_type": "stream",
          "name": "stdout",
          "text": [
            "306 ns ± 4.88 ns per loop (mean ± std. dev. of 7 runs, 1000000 loops each)\n"
          ]
        }
      ]
    },
    {
      "cell_type": "code",
      "source": [
        "%%timeit\n",
        "create_abc()"
      ],
      "metadata": {
        "colab": {
          "base_uri": "https://localhost:8080/"
        },
        "id": "vpU_W-KhVlrd",
        "outputId": "3600e9b4-dbaf-4f2c-95f3-aab824b7ce7a"
      },
      "execution_count": null,
      "outputs": [
        {
          "output_type": "stream",
          "name": "stdout",
          "text": [
            "305 ns ± 5.35 ns per loop (mean ± std. dev. of 7 runs, 1000000 loops each)\n"
          ]
        }
      ]
    },
    {
      "cell_type": "code",
      "source": [
        "#if in case u need to add dynamic var creation then slot can give to chance\n",
        "class s:\n",
        "  __slots__ =  ('first','second','third','__dict__')"
      ],
      "metadata": {
        "id": "tghjGdQmVqln"
      },
      "execution_count": null,
      "outputs": []
    },
    {
      "cell_type": "code",
      "source": [
        "a = s()\n",
        "a.random = 12                #this is not give an error"
      ],
      "metadata": {
        "id": "sq7YA4YLWcZQ"
      },
      "execution_count": null,
      "outputs": []
    },
    {
      "cell_type": "markdown",
      "source": [
        "**Properties**"
      ],
      "metadata": {
        "id": "zmoxOXmSW8LN"
      }
    },
    {
      "cell_type": "markdown",
      "source": [
        " Properties is a class for maintaining class attributes"
      ],
      "metadata": {
        "id": "Teq_OsRqiAEI"
      }
    },
    {
      "cell_type": "markdown",
      "source": [
        "The property() function is used in Python classes to define properties. In Python, Properties is a class for maintaining class attributes. Python property( ) is a built-in function for creating and returning a property object. In Python, the property() function offers an interface to instance attributes."
      ],
      "metadata": {
        "id": "Iiqn-QP5iFOP"
      }
    },
    {
      "cell_type": "markdown",
      "source": [
        "The Python property() function accepts 4 optional parameters. They are:\n",
        "\n",
        "*  fget (optional) = function for getting an attribute value. Default value is None\n",
        "*   fset (optional) = function to set an attribute value. Default value is None\n",
        "\n",
        "*   fdel (optional) = function used to delete an attribute value. Default value is None\n",
        "*   doc (optional) = string that contains documentation (a docstring) for the attribute. Defaults to None\n",
        "\n",
        "\n",
        "\n"
      ],
      "metadata": {
        "id": "q2V1H-AxiQo4"
      }
    },
    {
      "cell_type": "code",
      "source": [
        "#property decorator\n",
        "class demo:\n",
        "  def __init__(self,name,country):\n",
        "    self.name = name\n",
        "    self.country = country\n",
        "    self.email = f\"{self.country}.{self.name}@gmail.com\"\n",
        "\n",
        "  def display(self):\n",
        "    return self.email\n",
        "\n",
        "\n",
        "a = demo('sanket','INDIA')\n",
        "a.display()\n"
      ],
      "metadata": {
        "id": "koJFghH5h6JW",
        "colab": {
          "base_uri": "https://localhost:8080/",
          "height": 35
        },
        "outputId": "f4c8190e-2d0f-468e-d09c-6bfb98770142"
      },
      "execution_count": 7,
      "outputs": [
        {
          "output_type": "execute_result",
          "data": {
            "text/plain": [
              "'INDIA.sanket@gmail.com'"
            ],
            "application/vnd.google.colaboratory.intrinsic+json": {
              "type": "string"
            }
          },
          "metadata": {},
          "execution_count": 7
        }
      ]
    },
    {
      "cell_type": "code",
      "source": [
        "#change tha name\n",
        "a.name = 'vijay'\n",
        "a.display()             #u can clearly see email is does not change to overcome this problem use property decorator"
      ],
      "metadata": {
        "colab": {
          "base_uri": "https://localhost:8080/",
          "height": 35
        },
        "id": "ZlZfTM4-Xem5",
        "outputId": "4e7d8a05-82db-48da-8c3f-02897c39118c"
      },
      "execution_count": 10,
      "outputs": [
        {
          "output_type": "execute_result",
          "data": {
            "text/plain": [
              "'INDIA.sanket@gmail.com'"
            ],
            "application/vnd.google.colaboratory.intrinsic+json": {
              "type": "string"
            }
          },
          "metadata": {},
          "execution_count": 10
        }
      ]
    },
    {
      "cell_type": "code",
      "source": [
        "#with property decorator\n",
        "#property decorator\n",
        "class demo:\n",
        "  def __init__(self,name,country):\n",
        "    self.name = name\n",
        "    self.country = country\n",
        "    #self.email = f\"{self.country}.{self.name}@gmail.com\"\n",
        "\n",
        "  @property\n",
        "  def email(self):\n",
        "    print(f\"{self.country}.{self.name}@gmail.com\")\n",
        "\n",
        "  @email.setter\n",
        "  def email(self,nn):\n",
        "    names = nn.split(\"@\")[0]\n",
        "    self.name = names.split(\".\")[1]\n",
        "    self.country = names.split(\".\")[0]\n",
        "\n",
        "  @email.deleter\n",
        "  def email(self):\n",
        "    self.name =None\n",
        "    self.country = None\n",
        "\n",
        "\n",
        "\n",
        "a = demo('sanket','IND')\n",
        "print(a.email)\n",
        "\n",
        "a.name = 'vijay'\n",
        "print(a.email)\n",
        "a.email =\"AND.suvarana@gmail.com\"\n",
        "print(a.email)"
      ],
      "metadata": {
        "colab": {
          "base_uri": "https://localhost:8080/"
        },
        "id": "xQH-u7vzXto4",
        "outputId": "17d300e4-8c5e-4228-b818-db116f08f94d"
      },
      "execution_count": 25,
      "outputs": [
        {
          "output_type": "stream",
          "name": "stdout",
          "text": [
            "IND.sanket@gmail.com\n",
            "None\n",
            "IND.vijay@gmail.com\n",
            "None\n",
            "AND.suvarana@gmail.com\n",
            "None\n"
          ]
        }
      ]
    },
    {
      "cell_type": "markdown",
      "source": [
        "**Class methods**"
      ],
      "metadata": {
        "id": "WW8-K1RFW_e6"
      }
    },
    {
      "cell_type": "code",
      "source": [
        "class employe:\n",
        "  company = 'Apple'\n",
        "  def __init__(self,n):\n",
        "    self.name = n\n",
        "\n",
        "  def ret(self):\n",
        "    return f\"{self.name} and company is {self.company}\"\n",
        "\n",
        "\n",
        "obj = employe('sanket')\n",
        "obj.ret()"
      ],
      "metadata": {
        "colab": {
          "base_uri": "https://localhost:8080/",
          "height": 35
        },
        "id": "JJr4X_msXs0b",
        "outputId": "0123c453-3794-41f4-e426-d26a7ed4944f"
      },
      "execution_count": 28,
      "outputs": [
        {
          "output_type": "execute_result",
          "data": {
            "text/plain": [
              "'sanket and company is Apple'"
            ],
            "application/vnd.google.colaboratory.intrinsic+json": {
              "type": "string"
            }
          },
          "metadata": {},
          "execution_count": 28
        }
      ]
    },
    {
      "cell_type": "code",
      "source": [
        "obj.comapny = 'VIVO'\n",
        "obj.ret()                                   #hence class varible does b=not changed"
      ],
      "metadata": {
        "id": "2jK3q2CmWhb9",
        "colab": {
          "base_uri": "https://localhost:8080/",
          "height": 35
        },
        "outputId": "11b74116-295a-4ff6-c890-d19ce7ac881e"
      },
      "execution_count": 29,
      "outputs": [
        {
          "output_type": "execute_result",
          "data": {
            "text/plain": [
              "'sanket and company is Apple'"
            ],
            "application/vnd.google.colaboratory.intrinsic+json": {
              "type": "string"
            }
          },
          "metadata": {},
          "execution_count": 29
        }
      ]
    },
    {
      "cell_type": "code",
      "source": [
        "class employe:\n",
        "  company = 'Apple'\n",
        "  def __init__(self,n):\n",
        "    self.name = n\n",
        "\n",
        "  def ret(self):\n",
        "    return f\"{self.name} and company is {self.company}\"\n",
        "\n",
        "  @classmethod\n",
        "  def chnage_class(self,nn):\n",
        "    self.company = nn\n",
        "\n",
        "\n",
        "obj = employe('sanket')\n",
        "print(obj.ret())\n"
      ],
      "metadata": {
        "colab": {
          "base_uri": "https://localhost:8080/"
        },
        "id": "sRwby3etdApd",
        "outputId": "f52e25f4-6b85-4dc8-dd4e-5cd94b653b2d"
      },
      "execution_count": 33,
      "outputs": [
        {
          "output_type": "stream",
          "name": "stdout",
          "text": [
            "sanket and company is Apple\n"
          ]
        }
      ]
    },
    {
      "cell_type": "code",
      "source": [
        "obj.chnage_class('VIVO')                 #this can chnage the class var by using classmethod decorator\n",
        "obj.ret()"
      ],
      "metadata": {
        "colab": {
          "base_uri": "https://localhost:8080/",
          "height": 35
        },
        "id": "6NgkukardWFr",
        "outputId": "358ac64d-54cd-42b9-f32d-b025a7bc794b"
      },
      "execution_count": 36,
      "outputs": [
        {
          "output_type": "execute_result",
          "data": {
            "text/plain": [
              "'sanket and company is VIVO'"
            ],
            "application/vnd.google.colaboratory.intrinsic+json": {
              "type": "string"
            }
          },
          "metadata": {},
          "execution_count": 36
        }
      ]
    },
    {
      "cell_type": "markdown",
      "source": [
        "**static method**"
      ],
      "metadata": {
        "id": "IeWg2a65XC3k"
      }
    },
    {
      "cell_type": "markdown",
      "source": [
        "static method deoes not belongs from instance and class"
      ],
      "metadata": {
        "id": "2F6_sCWpfr-m"
      }
    },
    {
      "cell_type": "markdown",
      "source": [
        "**Class method vs Static Method**\n",
        "\n",
        "\n",
        "*   A class method takes cls as the first parameter while a static method needs no specific parameters.\n",
        "\n",
        "*   A class method can access or modify the class state while a static method can’t access or modify it.\n",
        "\n",
        "*   In general, static methods know nothing about the class state. They are utility-type methods that take some parameters and work upon those parameters. On the other hand class methods must have class as a parameter.\n",
        "*   We use @classmethod decorator in python to create a class method and we use @staticmethod decorator to create a static method in python.\n",
        "\n",
        "\n",
        "\n"
      ],
      "metadata": {
        "id": "s9Te2moyf8uF"
      }
    },
    {
      "cell_type": "code",
      "source": [
        "class DD:\n",
        "  counter = 'YES'\n",
        "\n",
        "  @staticmethod\n",
        "  def change():\n",
        "    DD.counter = 'NO'\n",
        "    return DD.counter\n",
        "\n",
        "\n",
        "obj = DD()"
      ],
      "metadata": {
        "id": "lJMt1ExdXGit"
      },
      "execution_count": 41,
      "outputs": []
    },
    {
      "cell_type": "code",
      "source": [
        "DD.change()"
      ],
      "metadata": {
        "colab": {
          "base_uri": "https://localhost:8080/",
          "height": 35
        },
        "id": "KFUz260ohfmQ",
        "outputId": "9bcca15c-0a07-450c-f01a-d2fc39a5d322"
      },
      "execution_count": 42,
      "outputs": [
        {
          "output_type": "execute_result",
          "data": {
            "text/plain": [
              "'NO'"
            ],
            "application/vnd.google.colaboratory.intrinsic+json": {
              "type": "string"
            }
          },
          "metadata": {},
          "execution_count": 42
        }
      ]
    },
    {
      "cell_type": "code",
      "source": [
        "#static method with arguments\n",
        "class Demo:\n",
        "\n",
        "  @staticmethod\n",
        "  def chg(a,b):\n",
        "    print(a,\" \",b)\n",
        "\n",
        "\n",
        "Demo.chg(12,11)                   #static method can called without creating obj"
      ],
      "metadata": {
        "colab": {
          "base_uri": "https://localhost:8080/"
        },
        "id": "J5WLTRM8h5zl",
        "outputId": "c3a5a663-207d-4b18-a412-6a639ae86ba4"
      },
      "execution_count": 45,
      "outputs": [
        {
          "output_type": "stream",
          "name": "stdout",
          "text": [
            "12   11\n"
          ]
        }
      ]
    },
    {
      "cell_type": "code",
      "source": [],
      "metadata": {
        "id": "ThOIc7c7hll2"
      },
      "execution_count": null,
      "outputs": []
    }
  ]
}