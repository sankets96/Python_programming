{
  "nbformat": 4,
  "nbformat_minor": 0,
  "metadata": {
    "colab": {
      "provenance": []
    },
    "kernelspec": {
      "name": "python3",
      "display_name": "Python 3"
    },
    "language_info": {
      "name": "python"
    }
  },
  "cells": [
    {
      "cell_type": "markdown",
      "source": [
        "**Simple ATM machine code**"
      ],
      "metadata": {
        "id": "eOAx69RTUVGg"
      }
    },
    {
      "cell_type": "code",
      "source": [
        "class Bank:\n",
        "  def __init__(self,balance,password):\n",
        "    self.balance = balance\n",
        "    self.password = password\n",
        "    self.menu()\n",
        "\n",
        "\n",
        "  def menu(self):\n",
        "    n = input(\"\"\"\n",
        "    1 Choos to genertae pin\n",
        "    2 Choose to Update pin\n",
        "    3 choose to check the balance\n",
        "    4 choose to withdral\n",
        "    5 choose to exit\"\"\")\n",
        "\n",
        "    if n=='1':\n",
        "      #generate pin\n",
        "      self.setpin()\n",
        "\n",
        "    elif n=='2':\n",
        "      #update pin\n",
        "      self.updatepin()\n",
        "    elif n=='3':\n",
        "      #check the balance\n",
        "      self.check()\n",
        "    elif n=='4':\n",
        "      #withdraw\n",
        "      self.withdraw()\n",
        "    else:\n",
        "      exit()\n",
        "\n",
        "\n",
        "  def setpin(self):\n",
        "    b = int(input(\"Enter the balance u know \"))\n",
        "    if self.balance == b:\n",
        "      pin = input('Enter the pin you want to set ')\n",
        "      self.password = pin\n",
        "    else :\n",
        "      print(\"You type incorrect balance \")\n",
        "\n",
        "\n",
        "  def updatepin(self):\n",
        "    prev = input('Enter recent password u know ')\n",
        "    if prev == self.password:\n",
        "      newpin = input('Enter the new pin u want to add ')\n",
        "      self.password = newpin\n",
        "    else :\n",
        "      print(\"Incorrect password \")\n",
        "\n",
        "\n",
        "  def check(self):\n",
        "    p = input('Enter the pin ')\n",
        "    if self.password == p:\n",
        "      print('{} this is your balance'.format(self.balance))\n",
        "    else:\n",
        "      print('Incorrect password ')\n",
        "\n",
        "\n",
        "  def withdraw(self):\n",
        "    pp = input('Enter the pin ')\n",
        "    if self.password == pp:\n",
        "      w = int(input(\"Enter the amount would be withdraew \"))\n",
        "      if w <= self.balance:\n",
        "        self.balance -= w\n",
        "        print('your remaining balance is {}'.format(self.balance))\n",
        "      else:\n",
        "        print(\"Value is too much enter valid value\")\n",
        "\n",
        "    else:\n",
        "      print('incorrect password ')\n",
        "      self.withdraw()\n"
      ],
      "metadata": {
        "id": "NUeVQ0zEwR7o"
      },
      "execution_count": 1,
      "outputs": []
    },
    {
      "cell_type": "code",
      "source": [
        "obj = Bank(12,'12345')\n",
        "\n"
      ],
      "metadata": {
        "colab": {
          "base_uri": "https://localhost:8080/"
        },
        "id": "qno3Ta30wiKr",
        "outputId": "1e8eaa74-a5ab-47ab-a375-59da719acc83"
      },
      "execution_count": 2,
      "outputs": [
        {
          "name": "stdout",
          "output_type": "stream",
          "text": [
            "\n",
            "    1 Choos to genertae pin\n",
            "    2 Choose to Update pin\n",
            "    3 choose to check the balance\n",
            "    4 choose to withdral\n",
            "    5 choose to exit5\n"
          ]
        }
      ]
    },
    {
      "cell_type": "markdown",
      "source": [
        "Reffrence var can point or store the object adress"
      ],
      "metadata": {
        "id": "9UlUhRcruoTe"
      }
    },
    {
      "cell_type": "markdown",
      "source": [
        "**object without refrence variable**"
      ],
      "metadata": {
        "id": "RWEHJShtFsLk"
      }
    },
    {
      "cell_type": "code",
      "source": [
        "class Person:\n",
        "  def __init__(self,name,country):\n",
        "    self.name = name\n",
        "    self.country = country\n",
        "\n",
        "Person('sanket','india')  #this is valid"
      ],
      "metadata": {
        "colab": {
          "base_uri": "https://localhost:8080/"
        },
        "id": "JfJopuU4Fwtk",
        "outputId": "d875bc77-fdb5-4cfb-9d92-58f0e1364fa8"
      },
      "execution_count": 3,
      "outputs": [
        {
          "output_type": "execute_result",
          "data": {
            "text/plain": [
              "<__main__.Person at 0x7aff91d166e0>"
            ]
          },
          "metadata": {},
          "execution_count": 3
        }
      ]
    },
    {
      "cell_type": "markdown",
      "source": [
        "**class with more reff varible**"
      ],
      "metadata": {
        "id": "a7xT1bduGmVN"
      }
    },
    {
      "cell_type": "code",
      "source": [
        "p =Person('sanket','uk')  #p is nothing but reff var store memory of obj"
      ],
      "metadata": {
        "id": "PjWYh5e1F9r1"
      },
      "execution_count": 4,
      "outputs": []
    },
    {
      "cell_type": "code",
      "source": [
        "q = p\n",
        "print(id(p))\n",
        "print(id(q))  #pointing to same object"
      ],
      "metadata": {
        "colab": {
          "base_uri": "https://localhost:8080/"
        },
        "id": "BILScd8pG2Vh",
        "outputId": "3c3e76ac-758c-47cc-d52b-b8802c0fad26"
      },
      "execution_count": 5,
      "outputs": [
        {
          "output_type": "stream",
          "name": "stdout",
          "text": [
            "135238081674736\n",
            "135238081674736\n"
          ]
        }
      ]
    },
    {
      "cell_type": "code",
      "source": [
        "q.name='vijay'\n",
        "p.name    #this is 2 ref var pointing to same obj and u can change one then automaticly they will change on other"
      ],
      "metadata": {
        "colab": {
          "base_uri": "https://localhost:8080/",
          "height": 35
        },
        "id": "JU9eFy7IG-Vy",
        "outputId": "8aa0877e-a8c6-4ac9-ce4f-e7e8129a8709"
      },
      "execution_count": 6,
      "outputs": [
        {
          "output_type": "execute_result",
          "data": {
            "text/plain": [
              "'vijay'"
            ],
            "application/vnd.google.colaboratory.intrinsic+json": {
              "type": "string"
            }
          },
          "metadata": {},
          "execution_count": 6
        }
      ]
    },
    {
      "cell_type": "markdown",
      "source": [
        "**Pass by Reffrece**"
      ],
      "metadata": {
        "id": "8QL4M4XZJYaL"
      }
    },
    {
      "cell_type": "code",
      "source": [
        "def greet(Person):\n",
        "  print('My name is {}'.format(Person.name))\n",
        "  #change the value\n",
        "  Person.name='Ankit'\n",
        "\n",
        "  return Person\n",
        "\n",
        "\n",
        "#this is function is outsid to the class"
      ],
      "metadata": {
        "id": "i2Mgcc8EHSXf"
      },
      "execution_count": 7,
      "outputs": []
    },
    {
      "cell_type": "code",
      "source": [
        "print(id(p))\n",
        "x = greet(p) #obj can passs to the function\n",
        "\n",
        "\n",
        "print(id(p))"
      ],
      "metadata": {
        "colab": {
          "base_uri": "https://localhost:8080/"
        },
        "id": "t6vttGKzJnMP",
        "outputId": "351a69c9-0699-476f-e92a-6a0aaa1a36c6"
      },
      "execution_count": 8,
      "outputs": [
        {
          "output_type": "stream",
          "name": "stdout",
          "text": [
            "135238081674736\n",
            "My name is vijay\n",
            "135238081674736\n"
          ]
        }
      ]
    },
    {
      "cell_type": "markdown",
      "source": [
        "**Instance variable**\n",
        "Var value that change with change object"
      ],
      "metadata": {
        "id": "cj7q2O0-CPvs"
      }
    },
    {
      "cell_type": "markdown",
      "source": [
        "**Private var**"
      ],
      "metadata": {
        "id": "HTqs-7ddIZFA"
      }
    },
    {
      "cell_type": "code",
      "source": [
        "class car:\n",
        "  def __init__(self,input):    #input var is instance var\n",
        "    self.__name = input  #this is private var\n"
      ],
      "metadata": {
        "id": "4mI46umlJqYF"
      },
      "execution_count": 1,
      "outputs": []
    },
    {
      "cell_type": "code",
      "source": [
        "obj = car('oddi')"
      ],
      "metadata": {
        "id": "KgrELcQWKp4q"
      },
      "execution_count": 2,
      "outputs": []
    },
    {
      "cell_type": "markdown",
      "source": [
        "**In python nothing is truly private**"
      ],
      "metadata": {
        "id": "zkTtpdxLIvoU"
      }
    },
    {
      "cell_type": "markdown",
      "source": [
        "you can acess and modified private var outside the class"
      ],
      "metadata": {
        "id": "nxp1fWzGI1QN"
      }
    },
    {
      "cell_type": "code",
      "source": [
        "obj.__name = 'BMW'\n",
        "print(obj.__name)\n",
        "obj._car__name = 'BB'\n",
        "print(obj._car__name)   #you can see that in memory private var can stored in diffrent name _ClassName_VarName  and also this is valid"
      ],
      "metadata": {
        "id": "hI6ar6cvKwP_",
        "colab": {
          "base_uri": "https://localhost:8080/"
        },
        "outputId": "01b2836e-1485-4d02-d3b8-30a9c2f5d4f0"
      },
      "execution_count": 4,
      "outputs": [
        {
          "output_type": "stream",
          "name": "stdout",
          "text": [
            "BMW\n",
            "BB\n"
          ]
        }
      ]
    },
    {
      "cell_type": "markdown",
      "source": [
        "**Encapsulation**"
      ],
      "metadata": {
        "id": "N9s7PNvxh2yF"
      }
    },
    {
      "cell_type": "markdown",
      "source": [
        "Encapsulation has two methos that is get and set to rextract private var and modified private var"
      ],
      "metadata": {
        "id": "5j8n1nC5iBkv"
      }
    },
    {
      "cell_type": "code",
      "source": [
        "class Car:\n",
        "  def __init__(self,input_name,input_price):\n",
        "    self.__carname = input_name\n",
        "    self.__carprice = input\n",
        "  def getname(self):\n",
        "    return self.__carname\n",
        "\n",
        "  def setname(self,nn):\n",
        "    if type(nn) == str:\n",
        "      self.__carname = nn\n",
        "    else :\n",
        "      print('enter valid name for the carname')\n",
        "\n",
        "  def getprice(self):\n",
        "    return self.__carprice\n",
        "\n",
        "  def setprice(self,nm):\n",
        "    if type(nm) == int:\n",
        "      self.__carname = nm\n",
        "    else :\n",
        "      print('enter valid name for the carprice')\n",
        "\n"
      ],
      "metadata": {
        "id": "aDaDdzxTI9Iv"
      },
      "execution_count": 18,
      "outputs": []
    },
    {
      "cell_type": "code",
      "source": [
        "obj1 = Car('BMW',2000)"
      ],
      "metadata": {
        "id": "ZM-W_339iZuX"
      },
      "execution_count": 10,
      "outputs": []
    },
    {
      "cell_type": "code",
      "source": [
        "obj1.getname()  #thoruh this method you can retun the private var"
      ],
      "metadata": {
        "colab": {
          "base_uri": "https://localhost:8080/",
          "height": 35
        },
        "id": "ZRWzg2qTid3J",
        "outputId": "71872f19-176b-4849-a53a-895f1c344d68"
      },
      "execution_count": 11,
      "outputs": [
        {
          "output_type": "execute_result",
          "data": {
            "text/plain": [
              "'BMW'"
            ],
            "application/vnd.google.colaboratory.intrinsic+json": {
              "type": "string"
            }
          },
          "metadata": {},
          "execution_count": 11
        }
      ]
    },
    {
      "cell_type": "code",
      "source": [
        "obj1.setname('oddii')  #set the value of private var protective way"
      ],
      "metadata": {
        "id": "3oMOcBD7i5d_"
      },
      "execution_count": 15,
      "outputs": []
    },
    {
      "cell_type": "code",
      "source": [
        "obj1.getname()"
      ],
      "metadata": {
        "colab": {
          "base_uri": "https://localhost:8080/",
          "height": 35
        },
        "id": "hYTQuCcjjJvD",
        "outputId": "72378933-a497-4082-cf2d-776d75658633"
      },
      "execution_count": 16,
      "outputs": [
        {
          "output_type": "execute_result",
          "data": {
            "text/plain": [
              "'oddii'"
            ],
            "application/vnd.google.colaboratory.intrinsic+json": {
              "type": "string"
            }
          },
          "metadata": {},
          "execution_count": 16
        }
      ]
    },
    {
      "cell_type": "code",
      "source": [
        "obj1.setname(int(123)) #it can give some error"
      ],
      "metadata": {
        "colab": {
          "base_uri": "https://localhost:8080/"
        },
        "id": "d5yoojAXjPkb",
        "outputId": "a47d936a-e54e-48c1-e143-1e23d439a2ba"
      },
      "execution_count": 17,
      "outputs": [
        {
          "output_type": "stream",
          "name": "stdout",
          "text": [
            "enter valid name for the carname\n"
          ]
        }
      ]
    },
    {
      "cell_type": "markdown",
      "source": [
        "Why Encapsulation used:\n"
      ],
      "metadata": {
        "id": "YsRIKDpLj6xC"
      }
    },
    {
      "cell_type": "markdown",
      "source": [
        "\n",
        "\n",
        "*   Python is not truly private becoz private var can set and modified outside the classs\n",
        "*   in encapsulation there are two methos get and set\n",
        "\n",
        "\n",
        "\n"
      ],
      "metadata": {
        "id": "YoNoJ5j4j-6Z"
      }
    },
    {
      "cell_type": "markdown",
      "source": [
        "**collection of pbject**"
      ],
      "metadata": {
        "id": "fr02WRxhklK0"
      }
    },
    {
      "cell_type": "code",
      "source": [
        "#list of object\n",
        "c1 = car('BB')\n",
        "c2 = car('JG')\n",
        "c3 = car('CG')\n",
        "li = [c1,c2,c3]\n",
        "li"
      ],
      "metadata": {
        "colab": {
          "base_uri": "https://localhost:8080/"
        },
        "id": "719IATt3jgOU",
        "outputId": "e79fbe59-de9b-46fe-baf2-894276d01a53"
      },
      "execution_count": 23,
      "outputs": [
        {
          "output_type": "execute_result",
          "data": {
            "text/plain": [
              "[<__main__.car at 0x7d4fdadc0e50>,\n",
              " <__main__.car at 0x7d4fdadc20e0>,\n",
              " <__main__.car at 0x7d4fdadc2560>]"
            ]
          },
          "metadata": {},
          "execution_count": 23
        }
      ]
    },
    {
      "cell_type": "code",
      "source": [
        "#dict of obj\n",
        "di = {'C1':c1,'c2':c2,'c3':c3}"
      ],
      "metadata": {
        "id": "hAqAwrbUk1lh"
      },
      "execution_count": 25,
      "outputs": []
    },
    {
      "cell_type": "markdown",
      "source": [
        "**Static Var**"
      ],
      "metadata": {
        "id": "3gWLoOd-lzFN"
      }
    },
    {
      "cell_type": "markdown",
      "source": [
        "\n",
        "\n",
        "*   with instance var u dont implement counter\n",
        "*   instance var value is change with changing the obj\n",
        "\n",
        "*   with the help of static var u can implment counter\n",
        "*   static var is deals with all obj\n",
        "\n",
        "\n",
        "\n"
      ],
      "metadata": {
        "id": "ZQfE5ENboVQd"
      }
    },
    {
      "cell_type": "markdown",
      "source": [
        "\n",
        "\n",
        "> static var\n",
        "\n",
        "\n",
        "1.   class var\n",
        "2.   var same for all obj\n",
        "\n",
        "---\n",
        "\n",
        "\n",
        "\n",
        "---\n",
        "Instance var\n",
        "\n",
        "\n",
        "1.   obj var\n",
        "2.   var value change with change the obj\n",
        "\n",
        "\n",
        "\n",
        "\n",
        "\n",
        "\n"
      ],
      "metadata": {
        "id": "PNgoGkB_pJJt"
      }
    },
    {
      "cell_type": "code",
      "source": [
        "class Bank:\n",
        "  counter = 0\n",
        "  def __init__(self,name):\n",
        "    self.n = name\n",
        "    self.cid = Bank.counter\n",
        "    Bank.counter = Bank.counter+1"
      ],
      "metadata": {
        "id": "k98tLhXNlKgf"
      },
      "execution_count": 26,
      "outputs": []
    },
    {
      "cell_type": "code",
      "source": [
        "cc1 = Bank('sanket')\n",
        "cc1.cid"
      ],
      "metadata": {
        "colab": {
          "base_uri": "https://localhost:8080/"
        },
        "id": "hm6JW4C8p8Sr",
        "outputId": "1e3dfa56-341d-4a84-cd24-7b2627604d74"
      },
      "execution_count": 28,
      "outputs": [
        {
          "output_type": "execute_result",
          "data": {
            "text/plain": [
              "1"
            ]
          },
          "metadata": {},
          "execution_count": 28
        }
      ]
    },
    {
      "cell_type": "code",
      "source": [
        "cc2 = Bank('sanke')\n",
        "cc2.cid"
      ],
      "metadata": {
        "colab": {
          "base_uri": "https://localhost:8080/"
        },
        "id": "VEbTX1RvqAXv",
        "outputId": "f6aa101a-466e-4584-840c-ac3d22280b18"
      },
      "execution_count": 29,
      "outputs": [
        {
          "output_type": "execute_result",
          "data": {
            "text/plain": [
              "2"
            ]
          },
          "metadata": {},
          "execution_count": 29
        }
      ]
    },
    {
      "cell_type": "code",
      "source": [
        "cc3 = Bank('sank')\n",
        "cc3.cid"
      ],
      "metadata": {
        "colab": {
          "base_uri": "https://localhost:8080/"
        },
        "id": "8ydg4ks8qG5T",
        "outputId": "217e772b-8b84-428d-b15e-3dd5cef64714"
      },
      "execution_count": 30,
      "outputs": [
        {
          "output_type": "execute_result",
          "data": {
            "text/plain": [
              "3"
            ]
          },
          "metadata": {},
          "execution_count": 30
        }
      ]
    },
    {
      "cell_type": "code",
      "source": [
        "Bank.counter #last inceremet and stop the excution\n",
        "#but thsi can acces the var outside the class so u can  make it private\n"
      ],
      "metadata": {
        "colab": {
          "base_uri": "https://localhost:8080/"
        },
        "id": "dpkcXdLyqKpG",
        "outputId": "1f8942ae-1d84-4b32-8c34-7ddbd4d39639"
      },
      "execution_count": 31,
      "outputs": [
        {
          "output_type": "execute_result",
          "data": {
            "text/plain": [
              "4"
            ]
          },
          "metadata": {},
          "execution_count": 31
        }
      ]
    },
    {
      "cell_type": "code",
      "source": [
        "class Bank:\n",
        "\n",
        "  __counter = 0\n",
        "  def __init__(self,name):\n",
        "    self.n = name\n",
        "    self.cid = Bank.__counter\n",
        "    Bank.__counter = Bank.__counter+1\n",
        "\n",
        " #Staticmethod  #utilitu function\n",
        "  def get_counter():\n",
        "    return Bank.__counter    #statuc var can acess throuth the class name not from self"
      ],
      "metadata": {
        "id": "mQoowfLQqPcE"
      },
      "execution_count": 49,
      "outputs": []
    },
    {
      "cell_type": "code",
      "source": [
        "cp1 = Bank('pp')\n",
        "Bank.get_counter()   #static methie can acess thouth the class without an obj\n"
      ],
      "metadata": {
        "colab": {
          "base_uri": "https://localhost:8080/"
        },
        "id": "1_HKcObWrcVD",
        "outputId": "f771c60d-be0a-4003-e907-67b7e33ce624"
      },
      "execution_count": 50,
      "outputs": [
        {
          "output_type": "execute_result",
          "data": {
            "text/plain": [
              "1"
            ]
          },
          "metadata": {},
          "execution_count": 50
        }
      ]
    },
    {
      "cell_type": "code",
      "source": [],
      "metadata": {
        "id": "dUuFoNLLrg7b"
      },
      "execution_count": null,
      "outputs": []
    }
  ]
}