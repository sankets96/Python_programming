{
  "nbformat": 4,
  "nbformat_minor": 0,
  "metadata": {
    "colab": {
      "provenance": []
    },
    "kernelspec": {
      "name": "python3",
      "display_name": "Python 3"
    },
    "language_info": {
      "name": "python"
    }
  },
  "cells": [
    {
      "cell_type": "markdown",
      "source": [
        "**Cordinate Geomeetry**"
      ],
      "metadata": {
        "id": "5l-gFnE2D8qM"
      }
    },
    {
      "cell_type": "markdown",
      "source": [
        "\n",
        "\n",
        "\n",
        "*   create class with point and print\n",
        "\n",
        "*   find Ecludian distance between two point\n",
        "\n",
        "\n",
        "\n",
        "\n",
        "*   find origin from ecludian point\n",
        "*   List item\n",
        "\n",
        "\n",
        "\n",
        "\n",
        "\n"
      ],
      "metadata": {
        "id": "-ZeQwGhvECRC"
      }
    },
    {
      "cell_type": "code",
      "source": [
        "class Point:\n",
        "  def __init__(self,x,y):\n",
        "    self.x_cod = x\n",
        "    self.y_cod = y\n",
        "\n",
        " #magic method to print point in correct format\n",
        "  def __str__(self):\n",
        "    return '({},{})'.format(self.x_cod,self.y_cod)\n",
        "\n",
        "  def ecludian_distance(self,other):  #accept the obj as argumment\n",
        "    return ((self.x_cod - other.x_cod)**2 + (self.y_cod - other.y_cod)**2)**0.5\n",
        "\n",
        "  def origin(self):\n",
        "    return self.ecludian_distance(Point(0,0))  #create object inside that class\n",
        "\n"
      ],
      "metadata": {
        "id": "g8eGvk9WD92q"
      },
      "execution_count": 20,
      "outputs": []
    },
    {
      "cell_type": "code",
      "source": [
        "#declare the point 1\n",
        "p1 = Point(1,1)\n",
        "print(p1)\n",
        "\n"
      ],
      "metadata": {
        "colab": {
          "base_uri": "https://localhost:8080/",
          "height": 0
        },
        "id": "f0VLPUe7EFa5",
        "outputId": "450b3ffc-3348-4a55-abea-0eca7ed15a66"
      },
      "execution_count": 22,
      "outputs": [
        {
          "output_type": "stream",
          "name": "stdout",
          "text": [
            "(1,1)\n"
          ]
        }
      ]
    },
    {
      "cell_type": "code",
      "source": [
        "#declare the point 2\n",
        "p2 = Point(1,2)\n",
        "print(p2)"
      ],
      "metadata": {
        "colab": {
          "base_uri": "https://localhost:8080/",
          "height": 0
        },
        "id": "tYB81V8iEIK6",
        "outputId": "88abd09e-4149-43f1-b176-98cdfac7986d"
      },
      "execution_count": 23,
      "outputs": [
        {
          "output_type": "stream",
          "name": "stdout",
          "text": [
            "(1,2)\n"
          ]
        }
      ]
    },
    {
      "cell_type": "code",
      "source": [
        "#ecludian distance\n",
        "p1.ecludian_distance(p2)"
      ],
      "metadata": {
        "colab": {
          "base_uri": "https://localhost:8080/",
          "height": 0
        },
        "id": "M5NrkYoxEKg6",
        "outputId": "14d65ca4-1386-4cf3-c065-5bbfd5ff12c3"
      },
      "execution_count": 24,
      "outputs": [
        {
          "output_type": "execute_result",
          "data": {
            "text/plain": [
              "1.0"
            ]
          },
          "metadata": {},
          "execution_count": 24
        }
      ]
    },
    {
      "cell_type": "code",
      "source": [
        "\n",
        "#origin distance\n",
        "p1.origin()"
      ],
      "metadata": {
        "colab": {
          "base_uri": "https://localhost:8080/",
          "height": 0
        },
        "id": "MjT-liPBEMFp",
        "outputId": "6eb0cc99-7b8a-4d5c-ac03-74b4c882a9ce"
      },
      "execution_count": 26,
      "outputs": [
        {
          "output_type": "execute_result",
          "data": {
            "text/plain": [
              "1.4142135623730951"
            ]
          },
          "metadata": {},
          "execution_count": 26
        }
      ]
    },
    {
      "cell_type": "markdown",
      "source": [
        "**Line Geometry**\n",
        "\n",
        "*   create Line class and print\n",
        "*   check the point fall on this line\n",
        "\n",
        "*   Find shortest distance between line and given point\n",
        "*   List item\n",
        "\n",
        "\n",
        "\n"
      ],
      "metadata": {
        "id": "99hdKZUxEVYo"
      }
    },
    {
      "cell_type": "code",
      "source": [
        "class Line:\n",
        "  def __init__(self,a,b,c):\n",
        "    self.a = a\n",
        "    self.b = b\n",
        "    self.c = c\n",
        "\n",
        "  def __str__(self):\n",
        "    return ('{}A + {}B + {}C = 0'.format(self.a,self.b,self.c))\n",
        "\n",
        "  def fallon(self,Point):\n",
        "    if self.a*Point.x_cod + self.b*Point.y_cod +self.c == 0:\n",
        "      print('Line is fall on this line ')\n",
        "    else :\n",
        "      print('point not fall ion this line')\n",
        "\n",
        "  def shortest(self,point):\n",
        "    return round(abs(self.a*point.x_cod + self.b*point.y_cod + self.c)/(self.a**2 + self.b**2)**0.5)\n",
        "\n",
        "  def calclatepoint(self,other):\n",
        "    deno = (self.a*other.b)-(self.b*other.a)\n",
        "\n",
        "    numeX = (self.b*other.c)-(self.c*other.b)\n",
        "    x = numeX/deno\n",
        "\n",
        "    numeY = (self.a*other.c)-(self.c*other.a)\n",
        "    y=numeY/deno\n",
        "    print('({},-{}) This is intersection points'.format(x,y))\n"
      ],
      "metadata": {
        "id": "UMVNhbWbEQ3-"
      },
      "execution_count": 27,
      "outputs": []
    },
    {
      "cell_type": "code",
      "source": [
        "#declare the line\n",
        "l1 = Line(1,1,-2)\n",
        "print(l1)"
      ],
      "metadata": {
        "colab": {
          "base_uri": "https://localhost:8080/",
          "height": 0
        },
        "id": "VgKkrJTPEbUr",
        "outputId": "2238faa0-0c83-4827-f159-8482ff99c84a"
      },
      "execution_count": 16,
      "outputs": [
        {
          "output_type": "stream",
          "name": "stdout",
          "text": [
            "1A + 1B + -2C = 0\n"
          ]
        }
      ]
    },
    {
      "cell_type": "code",
      "source": [
        "#shortest distance4\n",
        "p3 = Point(1,1)\n",
        "l1.shortest(p3)\n"
      ],
      "metadata": {
        "colab": {
          "base_uri": "https://localhost:8080/",
          "height": 0
        },
        "id": "b9n1uiwjEfMr",
        "outputId": "2fa1be26-1f34-4d55-f5a0-373d97fd9157"
      },
      "execution_count": 17,
      "outputs": [
        {
          "output_type": "execute_result",
          "data": {
            "text/plain": [
              "0"
            ]
          },
          "metadata": {},
          "execution_count": 17
        }
      ]
    },
    {
      "cell_type": "markdown",
      "source": [
        "**Findin the two lines are intercepting point**"
      ],
      "metadata": {
        "id": "NAmh17MTvSZy"
      }
    },
    {
      "cell_type": "code",
      "source": [
        "l2 = Line(3,1,2)\n",
        "print(l2)\n",
        "l3 = Line(5,3,5)\n",
        "print(l3)\n"
      ],
      "metadata": {
        "id": "79pgAl2nEglO",
        "colab": {
          "base_uri": "https://localhost:8080/",
          "height": 0
        },
        "outputId": "68573a2c-e0a6-4e57-8372-d665ca2b038b"
      },
      "execution_count": 18,
      "outputs": [
        {
          "output_type": "stream",
          "name": "stdout",
          "text": [
            "3A + 1B + 2C = 0\n",
            "5A + 3B + 5C = 0\n"
          ]
        }
      ]
    },
    {
      "cell_type": "code",
      "source": [
        "#intersection point\n",
        "l2.calclatepoint(l3)"
      ],
      "metadata": {
        "colab": {
          "base_uri": "https://localhost:8080/",
          "height": 0
        },
        "id": "Aqmm6HEryaJA",
        "outputId": "2218570d-af39-42f8-d57f-a8012ea6cd73"
      },
      "execution_count": 19,
      "outputs": [
        {
          "output_type": "stream",
          "name": "stdout",
          "text": [
            "(-0.25,-1.25) This is intersection points\n"
          ]
        }
      ]
    },
    {
      "cell_type": "code",
      "source": [],
      "metadata": {
        "id": "o7GcgypnyhP5"
      },
      "execution_count": null,
      "outputs": []
    }
  ]
}