{
  "nbformat": 4,
  "nbformat_minor": 0,
  "metadata": {
    "colab": {
      "provenance": []
    },
    "kernelspec": {
      "name": "python3",
      "display_name": "Python 3"
    },
    "language_info": {
      "name": "python"
    }
  },
  "cells": [
    {
      "cell_type": "markdown",
      "source": [
        "**Class Realtionship**\n",
        "\n",
        "*   Agregation\n",
        "*   Inheritance\n",
        "\n"
      ],
      "metadata": {
        "id": "5XsPQta5XTtS"
      }
    },
    {
      "cell_type": "markdown",
      "source": [
        "**Aggregation**\n",
        "\n",
        "*   has a own another classs\n",
        "*   properti does not support private var mechanism\n",
        "\n"
      ],
      "metadata": {
        "id": "MUJ4KCdQXbHs"
      }
    },
    {
      "cell_type": "code",
      "source": [
        "class Customer:\n",
        "\n",
        "  def __init__(self,input_name,input_adress):\n",
        "    self.name = input_name\n",
        "    self.adress = input_adress\n",
        "\n",
        "  def print_adress(self):\n",
        "    print('city name is {} and pin is {}'.format(self.adress.city,self.adress.pin))\n",
        "\n",
        "\n",
        "\n",
        "\n",
        "class Adress:\n",
        "\n",
        "  def __init__(self,city,pin):\n",
        "    self.city = city\n",
        "    self.pin = pin\n",
        "\n",
        "\n"
      ],
      "metadata": {
        "id": "g5m2gn6VXaEB"
      },
      "execution_count": null,
      "outputs": []
    },
    {
      "cell_type": "code",
      "source": [
        "add1 = Adress('Ich',416115)\n",
        "c1 = Customer('sanket',add1)   #aggregation is nothing but one object pass to another class object as argument"
      ],
      "metadata": {
        "id": "2iqSk5YpXs0v"
      },
      "execution_count": null,
      "outputs": []
    },
    {
      "cell_type": "code",
      "source": [
        "#print the values\n",
        "c1.print_adress()"
      ],
      "metadata": {
        "colab": {
          "base_uri": "https://localhost:8080/"
        },
        "id": "truJxGmFYG7v",
        "outputId": "a4b6989e-4ed8-4266-b08f-46d2219569bf"
      },
      "execution_count": null,
      "outputs": [
        {
          "output_type": "stream",
          "name": "stdout",
          "text": [
            "city name is Ich and pin is 416115\n"
          ]
        }
      ]
    },
    {
      "cell_type": "markdown",
      "source": [
        "Deal with private var"
      ],
      "metadata": {
        "id": "GXSvCOqFYsSl"
      }
    },
    {
      "cell_type": "code",
      "source": [
        "class Customer:\n",
        "\n",
        "  def __init__(self,input_name,input_adress):\n",
        "    self.name = input_name\n",
        "    self.adress = input_adress\n",
        "\n",
        "  def print_adress(self):\n",
        "    print('city name is {} and pin is {}'.format(self.adress.city,self.adress.pin))\n",
        "\n",
        "\n",
        "\n",
        "\n",
        "\n",
        "\n",
        "class Adress:\n",
        "\n",
        "  def __init__(self,city,pin):\n",
        "    self.city = city\n",
        "    self.pin = pin\n",
        "\n",
        "\n",
        "\n",
        "  def get_city(self):\n",
        "    return self.__city\n",
        "\n",
        "\n"
      ],
      "metadata": {
        "id": "UbtQ61vkYg4n"
      },
      "execution_count": null,
      "outputs": []
    },
    {
      "cell_type": "code",
      "source": [
        "add2 = Adress('kp',416115)\n",
        "c1 = Customer('sank',add1)\n",
        "c1.print_adress()"
      ],
      "metadata": {
        "colab": {
          "base_uri": "https://localhost:8080/"
        },
        "id": "FONcaPCOYw5V",
        "outputId": "2d4f1ffc-d05e-45f5-e3c7-ea17b727a34d"
      },
      "execution_count": null,
      "outputs": [
        {
          "output_type": "stream",
          "name": "stdout",
          "text": [
            "city name is Ich and pin is 416115\n"
          ]
        }
      ]
    },
    {
      "cell_type": "code",
      "source": [
        "# c1.print_adress()  this give and error becoz it does not support acess private var for acess u can add get function"
      ],
      "metadata": {
        "id": "D3usrJA-Y8-X"
      },
      "execution_count": null,
      "outputs": []
    },
    {
      "cell_type": "markdown",
      "source": [
        "**Other exapmle of Aggregation**"
      ],
      "metadata": {
        "id": "t1nXTdfFoeB9"
      }
    },
    {
      "cell_type": "code",
      "source": [
        "class owner:\n",
        "  counter = 0\n",
        "  def __init__(self,name,mobile_no,car):\n",
        "    self.name = name\n",
        "    self.mobileno = mobile_no\n",
        "    self.id= owner.counter\n",
        "    owner.counter = owner.counter+1\n",
        "    self.car = car\n",
        "\n",
        "  def print_car(self):\n",
        "    print('car is {} and company is {} and model is {}'.format(self.car.modelname,self.car.company,self.car.year))\n",
        "\n",
        "  def editcustormer(self,new_name,new_no,na,comp,year):\n",
        "    self.name= new_name\n",
        "    self.mobileno = new_no\n",
        "    self.car.editcar(na,comp,year)\n",
        "\n",
        "\n",
        "\n",
        "class Car:\n",
        "  def __init__(self,name,company,year):\n",
        "    self.modelname = name\n",
        "    self.company = company\n",
        "    self.year = year\n",
        "\n",
        "\n",
        "  def editcar(self,name,comp,year):\n",
        "    self.modelname = name\n",
        "    self.company = comp\n",
        "    self.year = year\n",
        "\n",
        "\n",
        "c1 = Car('alto','suzuki',int(2011))\n",
        "o1 = owner('sanket',int(90900900),c1)\n"
      ],
      "metadata": {
        "id": "zynt7b8IY_qW"
      },
      "execution_count": null,
      "outputs": []
    },
    {
      "cell_type": "code",
      "source": [
        "o1.print_car()"
      ],
      "metadata": {
        "colab": {
          "base_uri": "https://localhost:8080/"
        },
        "id": "uq887b4ZjS59",
        "outputId": "4146e395-4e46-493f-e337-e4992d54efd2"
      },
      "execution_count": null,
      "outputs": [
        {
          "output_type": "stream",
          "name": "stdout",
          "text": [
            "car is alto and company is suzuki and model is 2011\n"
          ]
        }
      ]
    },
    {
      "cell_type": "code",
      "source": [
        "o1.editcustormer('sanket_suryavanshi',int(201112212),'suzukii','appe',int(2011))\n",
        "o1.print_car()"
      ],
      "metadata": {
        "colab": {
          "base_uri": "https://localhost:8080/"
        },
        "id": "AnQbGRMxkQFT",
        "outputId": "5fde0fc9-ad98-4420-c559-19630adf0e42"
      },
      "execution_count": null,
      "outputs": [
        {
          "output_type": "stream",
          "name": "stdout",
          "text": [
            "car is suzukii and company is appe and model is 2011\n"
          ]
        }
      ]
    },
    {
      "cell_type": "markdown",
      "source": [
        "**Inheritance**\n",
        "\n",
        "*   child class accquire parent class properties\n",
        "*   it uses improve code reuse\n",
        "\n"
      ],
      "metadata": {
        "id": "Ytp-jli3w60T"
      }
    },
    {
      "cell_type": "code",
      "source": [
        "#Example 1\n",
        "class user:\n",
        "  def __init__(self,name):\n",
        "    self.username = name\n",
        "\n",
        "  def login(self):\n",
        "    print('loginee')\n",
        "\n",
        "class Student(user):\n",
        "  def __init__(self,id):\n",
        "    self.id = id\n",
        "\n",
        "  def enroll(self):\n",
        "    print('enrolled ')\n",
        "\n",
        "\n",
        "u = user('sanket')\n",
        "s = Student(12)\n",
        "s.enroll()\n",
        "s.login()"
      ],
      "metadata": {
        "id": "M0KQvtxTqBbg",
        "colab": {
          "base_uri": "https://localhost:8080/"
        },
        "outputId": "149c79c6-8336-4be0-8ee2-053683aa35b3"
      },
      "execution_count": null,
      "outputs": [
        {
          "output_type": "stream",
          "name": "stdout",
          "text": [
            "enrolled \n",
            "loginee\n"
          ]
        }
      ]
    },
    {
      "cell_type": "markdown",
      "source": [
        "**Example 2**"
      ],
      "metadata": {
        "id": "aFl_Alr0VddS"
      }
    },
    {
      "cell_type": "markdown",
      "source": [
        "When child class constructor not present then compiler go to paertn classs constructor"
      ],
      "metadata": {
        "id": "uqS99gosVgi6"
      }
    },
    {
      "cell_type": "code",
      "source": [
        "class Phone:\n",
        "  def __init__(self,model,price):\n",
        "    self.model = model\n",
        "    self.price = price\n",
        "\n",
        "  def print(self):\n",
        "    print(self.model,\" \",self.price)\n",
        "\n",
        "\n",
        "class Smart(Phone):\n",
        "  pass\n",
        "\n",
        "\n",
        "\n",
        "s1 = Smart('xiomi',120000)\n",
        "s1.print()"
      ],
      "metadata": {
        "colab": {
          "base_uri": "https://localhost:8080/"
        },
        "id": "11ABRUZ7VYce",
        "outputId": "49349fae-a2f3-4778-f922-2942f5f2f195"
      },
      "execution_count": null,
      "outputs": [
        {
          "output_type": "stream",
          "name": "stdout",
          "text": [
            "xiomi   120000\n"
          ]
        }
      ]
    },
    {
      "cell_type": "markdown",
      "source": [
        "**Example 3**"
      ],
      "metadata": {
        "id": "uG1EWoaGWNpP"
      }
    },
    {
      "cell_type": "markdown",
      "source": [
        "When obj from child class is created they go to first in child class construcor when they found it will execute. they dont go to parent class so\n",
        "parent class attributest not found in memory"
      ],
      "metadata": {
        "id": "aVty2E6WWQhQ"
      }
    },
    {
      "cell_type": "code",
      "source": [
        "class Phone:\n",
        "  def __init__(self,model,price):\n",
        "    self.model = model\n",
        "    self.price = price\n",
        "    print('parent classs constructor ')\n",
        "\n",
        "  def print_parent(self):\n",
        "    print(self.model,\" \",self.price)\n",
        "\n",
        "\n",
        "class Smart(Phone):\n",
        "  def __init__(self,os,ram):\n",
        "    self.os = os\n",
        "    self.ram = ram\n",
        "    print('child class constructor ')\n",
        "\n",
        "  def print_child(self):\n",
        "    print(self.os,\" \",self.ram)\n"
      ],
      "metadata": {
        "id": "GSaUVXi5WJsW"
      },
      "execution_count": null,
      "outputs": []
    },
    {
      "cell_type": "code",
      "source": [
        "s2 = Smart('google',12)\n",
        "s2.print_child()\n"
      ],
      "metadata": {
        "colab": {
          "base_uri": "https://localhost:8080/"
        },
        "id": "AnZtVwJTXGGY",
        "outputId": "b1f66d72-d104-403a-b4fb-e1229d86b6df"
      },
      "execution_count": null,
      "outputs": [
        {
          "output_type": "stream",
          "name": "stdout",
          "text": [
            "child class constructor \n",
            "google   12\n"
          ]
        }
      ]
    },
    {
      "cell_type": "code",
      "source": [
        "s2.print_parent()   #Hence they found child class constructor so they dont go to parent class constructor"
      ],
      "metadata": {
        "colab": {
          "base_uri": "https://localhost:8080/",
          "height": 297
        },
        "id": "ApzooamSXVKB",
        "outputId": "3952fe62-051e-4ec0-f9f0-643f52e7a0e5"
      },
      "execution_count": null,
      "outputs": [
        {
          "output_type": "error",
          "ename": "AttributeError",
          "evalue": "ignored",
          "traceback": [
            "\u001b[0;31m---------------------------------------------------------------------------\u001b[0m",
            "\u001b[0;31mAttributeError\u001b[0m                            Traceback (most recent call last)",
            "\u001b[0;32m<ipython-input-14-b0d5e26153be>\u001b[0m in \u001b[0;36m<cell line: 1>\u001b[0;34m()\u001b[0m\n\u001b[0;32m----> 1\u001b[0;31m \u001b[0ms2\u001b[0m\u001b[0;34m.\u001b[0m\u001b[0mprint_parent\u001b[0m\u001b[0;34m(\u001b[0m\u001b[0;34m)\u001b[0m   \u001b[0;31m#Hence they found child class constructor so they dont go to parent class constructor\u001b[0m\u001b[0;34m\u001b[0m\u001b[0;34m\u001b[0m\u001b[0m\n\u001b[0m",
            "\u001b[0;32m<ipython-input-12-0b2d812ddd98>\u001b[0m in \u001b[0;36mprint_parent\u001b[0;34m(self)\u001b[0m\n\u001b[1;32m      6\u001b[0m \u001b[0;34m\u001b[0m\u001b[0m\n\u001b[1;32m      7\u001b[0m   \u001b[0;32mdef\u001b[0m \u001b[0mprint_parent\u001b[0m\u001b[0;34m(\u001b[0m\u001b[0mself\u001b[0m\u001b[0;34m)\u001b[0m\u001b[0;34m:\u001b[0m\u001b[0;34m\u001b[0m\u001b[0;34m\u001b[0m\u001b[0m\n\u001b[0;32m----> 8\u001b[0;31m     \u001b[0mprint\u001b[0m\u001b[0;34m(\u001b[0m\u001b[0mself\u001b[0m\u001b[0;34m.\u001b[0m\u001b[0mmodel\u001b[0m\u001b[0;34m,\u001b[0m\u001b[0;34m\" \"\u001b[0m\u001b[0;34m,\u001b[0m\u001b[0mself\u001b[0m\u001b[0;34m.\u001b[0m\u001b[0mprice\u001b[0m\u001b[0;34m)\u001b[0m\u001b[0;34m\u001b[0m\u001b[0;34m\u001b[0m\u001b[0m\n\u001b[0m\u001b[1;32m      9\u001b[0m \u001b[0;34m\u001b[0m\u001b[0m\n\u001b[1;32m     10\u001b[0m \u001b[0;34m\u001b[0m\u001b[0m\n",
            "\u001b[0;31mAttributeError\u001b[0m: 'Smart' object has no attribute 'model'"
          ]
        }
      ]
    },
    {
      "cell_type": "markdown",
      "source": [
        "**Example 4**"
      ],
      "metadata": {
        "id": "fACvl-QjZe2o"
      }
    },
    {
      "cell_type": "markdown",
      "source": [
        "Deal with private var it can acess with get method"
      ],
      "metadata": {
        "id": "xYmJXnbPZh4_"
      }
    },
    {
      "cell_type": "code",
      "source": [
        "class Parent:\n",
        "  def __init__(self,ma):\n",
        "    self.__ma = ma\n",
        "\n",
        "  def get_ma(self):\n",
        "    return self.__ma\n",
        "\n",
        "\n",
        "class Child(Parent):\n",
        "    pass\n",
        "\n",
        "\n",
        "c1 = Child(12)\n",
        "c1.get_ma()\n"
      ],
      "metadata": {
        "colab": {
          "base_uri": "https://localhost:8080/"
        },
        "id": "X8Q5i0X5XZiO",
        "outputId": "47e0f488-943e-406a-d921-958a54554fb5"
      },
      "execution_count": null,
      "outputs": [
        {
          "output_type": "execute_result",
          "data": {
            "text/plain": [
              "12"
            ]
          },
          "metadata": {},
          "execution_count": 15
        }
      ]
    },
    {
      "cell_type": "markdown",
      "source": [
        "**Example 4**"
      ],
      "metadata": {
        "id": "JNpfk8hRc9cO"
      }
    },
    {
      "cell_type": "markdown",
      "source": [
        "parent constructor attribute  passs by child constructor"
      ],
      "metadata": {
        "id": "pQvadImJdA0f"
      }
    },
    {
      "cell_type": "code",
      "source": [
        "class Parent:\n",
        "  def __init__(self,ma):\n",
        "    self.__ma = ma\n",
        "\n",
        "  def get_ma(self):\n",
        "    return self.__ma\n",
        "\n",
        "\n",
        "class Child(Parent):\n",
        "\n",
        "  def __init__(self,mm,ma):\n",
        "    self.mm = mm\n",
        "    print('child class constructoe')\n",
        "\n",
        "\n",
        "c1 = Child(12,13)\n",
        "#c1.get_ma()   This give an errror becoz parent class constructor not created\n",
        "\n"
      ],
      "metadata": {
        "colab": {
          "base_uri": "https://localhost:8080/"
        },
        "id": "fzm1bI7sYSeK",
        "outputId": "19cecfab-4c73-4a2c-91a4-73e07e8648b1"
      },
      "execution_count": null,
      "outputs": [
        {
          "output_type": "stream",
          "name": "stdout",
          "text": [
            "child class constructoe\n"
          ]
        }
      ]
    },
    {
      "cell_type": "markdown",
      "source": [
        "**Method overriding**"
      ],
      "metadata": {
        "id": "zuOrRc04eiEt"
      }
    },
    {
      "cell_type": "markdown",
      "source": [
        "both child amd parent class have same function with  name and same argumments then definately child obj can call child class function"
      ],
      "metadata": {
        "id": "gWxXz90JemGS"
      }
    },
    {
      "cell_type": "code",
      "source": [
        "class A:\n",
        "  def __init__(self,name):\n",
        "    self.name= name\n",
        "\n",
        "\n",
        "  def buy(self):\n",
        "    print('Parent class function ')\n",
        "\n",
        "\n",
        "class B(A):\n",
        "\n",
        "\n",
        "  def buy(self):\n",
        "\n",
        "    #super().buy()\n",
        "    print('Child class constructor')\n",
        "\n",
        "\n",
        "\n",
        "b = B('sanket')\n",
        "b.buy()"
      ],
      "metadata": {
        "colab": {
          "base_uri": "https://localhost:8080/"
        },
        "id": "WoHmx5kodZv9",
        "outputId": "93eac36c-bd1a-4c2d-d52e-939348b43aec"
      },
      "execution_count": null,
      "outputs": [
        {
          "output_type": "stream",
          "name": "stdout",
          "text": [
            "Child class constructor\n"
          ]
        }
      ]
    },
    {
      "cell_type": "code",
      "source": [
        "#A class obj calling\n",
        "a = A('ss')\n",
        "a.buy()"
      ],
      "metadata": {
        "colab": {
          "base_uri": "https://localhost:8080/"
        },
        "id": "2_o2h1Q4fPae",
        "outputId": "d109e89f-9bb4-45e3-c42b-3ea640ad692e"
      },
      "execution_count": null,
      "outputs": [
        {
          "output_type": "stream",
          "name": "stdout",
          "text": [
            "Parent class function \n"
          ]
        }
      ]
    },
    {
      "cell_type": "markdown",
      "source": [
        "**Super Keyword**"
      ],
      "metadata": {
        "id": "zfuOiSYcfxog"
      }
    },
    {
      "cell_type": "markdown",
      "source": [
        "\n",
        "\n",
        "*   Super keyword used in child class not in outside class it throw an error\n",
        "*   super keyword not acess attribute\n",
        "\n"
      ],
      "metadata": {
        "id": "xzcT93ZBNbti"
      }
    },
    {
      "cell_type": "code",
      "source": [
        "class Father:\n",
        "  def __init__(self,id,name):\n",
        "    self.name = name\n",
        "    self.id = id\n",
        "    print('father classs constructor ')\n",
        "\n",
        "  def print_f(self):\n",
        "    print('father class function ')\n",
        "    print(self.name,\" \",self.id)\n",
        "\n",
        "\n",
        "\n",
        "class Mom(Father):\n",
        "  def __init__(self,nm,id,name):\n",
        "    self.nm = nm\n",
        "    print(\"inside the Mom constructor\")\n",
        "    super().__init__(id,name)\n",
        "    print(\"return to the Mom constructor\")\n",
        "\n",
        "\n",
        "\n",
        "m = Mom('suvarna',11,'vijay')"
      ],
      "metadata": {
        "id": "wQJ_EFZNfpIH",
        "colab": {
          "base_uri": "https://localhost:8080/"
        },
        "outputId": "10153f16-a5b7-436e-a39b-c52da79e0014"
      },
      "execution_count": null,
      "outputs": [
        {
          "output_type": "stream",
          "name": "stdout",
          "text": [
            "inside the Mom constructor\n",
            "father classs constructor \n",
            "return to the Mom constructor\n"
          ]
        }
      ]
    },
    {
      "cell_type": "code",
      "source": [
        "m.print_f()"
      ],
      "metadata": {
        "colab": {
          "base_uri": "https://localhost:8080/"
        },
        "id": "dToncggML7Hy",
        "outputId": "6ced2118-8b70-4a9b-9540-1bf467a2574f"
      },
      "execution_count": null,
      "outputs": [
        {
          "output_type": "stream",
          "name": "stdout",
          "text": [
            "father class function \n",
            "vijay   11\n"
          ]
        }
      ]
    },
    {
      "cell_type": "markdown",
      "source": [
        "**Types of inheritance**\n",
        "\n",
        "*   single\n",
        "*   multiple\n",
        "\n",
        "*   multilevel\n",
        "*   hybrid\n",
        "\n",
        "*   Hierarchical\n",
        "\n",
        "\n",
        "\n",
        "\n",
        "\n",
        "\n"
      ],
      "metadata": {
        "id": "YiSgYatT_j9x"
      }
    },
    {
      "cell_type": "code",
      "source": [
        "#Multiple\n",
        "\n",
        "#   P1   p2\n",
        "#     C1\n",
        "class Father:\n",
        "  def __init__(self):\n",
        "    print('Father constructor')\n",
        "\n",
        "\n",
        "class Mom:\n",
        "  def __init(self):\n",
        "    print('Mom constructor')\n",
        "\n",
        "#constructor call depend fst argument in inheritance\n",
        "class Child(Father,Mom):\n",
        "  pass\n",
        "\n",
        "c1 = Child()     #method and constructor overriding is depends upon arguments while inheritance"
      ],
      "metadata": {
        "id": "co8y2Q91NJlc",
        "colab": {
          "base_uri": "https://localhost:8080/"
        },
        "outputId": "9e8cff97-ed79-4de9-c936-b717d5b8c9db"
      },
      "execution_count": null,
      "outputs": [
        {
          "output_type": "stream",
          "name": "stdout",
          "text": [
            "Father constructor\n"
          ]
        }
      ]
    },
    {
      "cell_type": "code",
      "source": [
        "#Multilevel\n",
        "#p1 -> p2 -> p3 -> ->\n",
        "class A:\n",
        "  def __init__(self):\n",
        "    print('A constructor')\n",
        "\n",
        "\n",
        "class B(A):\n",
        "  def __init__(self):\n",
        "    print('B constructor')\n",
        "\n",
        "class C(B):\n",
        "  def __init__(self):\n",
        "    print('C constructor ')\n",
        "    super().__init__()\n",
        "\n",
        "\n",
        "c = C()"
      ],
      "metadata": {
        "colab": {
          "base_uri": "https://localhost:8080/"
        },
        "id": "0ZhLsjnXA1Y9",
        "outputId": "ac776eb0-10b6-4001-af17-37e869ba6ef9"
      },
      "execution_count": null,
      "outputs": [
        {
          "output_type": "stream",
          "name": "stdout",
          "text": [
            "C constructor \n",
            "B constructor\n"
          ]
        }
      ]
    },
    {
      "cell_type": "code",
      "source": [
        "#hierarchical\n",
        "#p1\n",
        "#c1 C2 c3 c4\n",
        "class P:\n",
        "  def __init__(self):\n",
        "    print('P class constructor')\n",
        "\n",
        "class C1(P):\n",
        "  def __init__(self):\n",
        "    print('C1 constructor')\n",
        "  def pp(self):\n",
        "    print('pp1 function')\n",
        "\n",
        "class C2(P):\n",
        "  def __init__(self):\n",
        "    print('C2 constructor')\n",
        "    super().__init__()\n",
        "  def pp(self):\n",
        "    print('pp2 function')\n",
        "\n",
        "ob = C2()"
      ],
      "metadata": {
        "colab": {
          "base_uri": "https://localhost:8080/"
        },
        "id": "oYPSck9mA-Gw",
        "outputId": "e60d4681-ff43-486f-8f87-0676207d975d"
      },
      "execution_count": null,
      "outputs": [
        {
          "output_type": "stream",
          "name": "stdout",
          "text": [
            "C2 constructor\n",
            "P class constructor\n"
          ]
        }
      ]
    },
    {
      "cell_type": "code",
      "source": [
        "#it calls function2 becoz they give priorit to the same class obj is same class\n",
        "ob.pp()"
      ],
      "metadata": {
        "colab": {
          "base_uri": "https://localhost:8080/"
        },
        "id": "KZJrDzRDDJ22",
        "outputId": "331bebd0-6710-4d80-ce75-f556c0735d3a"
      },
      "execution_count": null,
      "outputs": [
        {
          "output_type": "stream",
          "name": "stdout",
          "text": [
            "pp2 function\n"
          ]
        }
      ]
    },
    {
      "cell_type": "code",
      "source": [
        "ob1 = C1()\n",
        "ob1.pp()"
      ],
      "metadata": {
        "colab": {
          "base_uri": "https://localhost:8080/"
        },
        "id": "SwjtTQ2pDaWq",
        "outputId": "f9e2e30a-a22b-42dc-9f56-793805faad6a"
      },
      "execution_count": null,
      "outputs": [
        {
          "output_type": "stream",
          "name": "stdout",
          "text": [
            "C1 constructor\n",
            "pp1 function\n"
          ]
        }
      ]
    },
    {
      "cell_type": "markdown",
      "source": [
        "**Polymorphism**\n",
        " same thing with diffrent forms"
      ],
      "metadata": {
        "id": "Tf5s7WFdEPBV"
      }
    },
    {
      "cell_type": "markdown",
      "source": [
        "\n",
        "\n",
        "1.   Method overriding (RUN)\n",
        "2.   Method overloading (COMPILE)\n",
        "\n",
        "\n",
        "1.  Operator overloading\n",
        "\n",
        "\n",
        "\n",
        "\n"
      ],
      "metadata": {
        "id": "fEJqXqyZEVlU"
      }
    },
    {
      "cell_type": "markdown",
      "source": [
        "Method overloading NEED:\n",
        "code more clean and readable. ****\n",
        "BUT PYTHON does not support this it can impleemnt diffrent way"
      ],
      "metadata": {
        "id": "8l6q3OdlEotE"
      }
    },
    {
      "cell_type": "code",
      "source": [
        "class shape:\n",
        "  def area(self,a):\n",
        "    return a*a\n",
        "\n",
        "  def area(self,a,b):\n",
        "    return a*b\n",
        "\n",
        "\n",
        "s = shape()\n",
        "s#.area()   this line gives error becoz the recent function is called\n",
        "\n",
        "\n"
      ],
      "metadata": {
        "colab": {
          "base_uri": "https://localhost:8080/",
          "height": 245
        },
        "id": "8Rlhb-eaDvRq",
        "outputId": "8249f2b4-7196-4bc1-a97e-f800c325fcfd"
      },
      "execution_count": null,
      "outputs": [
        {
          "output_type": "error",
          "ename": "TypeError",
          "evalue": "ignored",
          "traceback": [
            "\u001b[0;31m---------------------------------------------------------------------------\u001b[0m",
            "\u001b[0;31mTypeError\u001b[0m                                 Traceback (most recent call last)",
            "\u001b[0;32m<ipython-input-34-c13c69a2718a>\u001b[0m in \u001b[0;36m<cell line: 10>\u001b[0;34m()\u001b[0m\n\u001b[1;32m      8\u001b[0m \u001b[0;34m\u001b[0m\u001b[0m\n\u001b[1;32m      9\u001b[0m \u001b[0ms\u001b[0m \u001b[0;34m=\u001b[0m \u001b[0mshape\u001b[0m\u001b[0;34m(\u001b[0m\u001b[0;34m)\u001b[0m\u001b[0;34m\u001b[0m\u001b[0;34m\u001b[0m\u001b[0m\n\u001b[0;32m---> 10\u001b[0;31m \u001b[0ms\u001b[0m\u001b[0;34m.\u001b[0m\u001b[0marea\u001b[0m\u001b[0;34m(\u001b[0m\u001b[0;34m)\u001b[0m\u001b[0;34m\u001b[0m\u001b[0;34m\u001b[0m\u001b[0m\n\u001b[0m\u001b[1;32m     11\u001b[0m \u001b[0;34m\u001b[0m\u001b[0m\n\u001b[1;32m     12\u001b[0m \u001b[0;34m\u001b[0m\u001b[0m\n",
            "\u001b[0;31mTypeError\u001b[0m: shape.area() missing 2 required positional arguments: 'a' and 'b'"
          ]
        }
      ]
    },
    {
      "cell_type": "code",
      "source": [
        "class shape:\n",
        "  def area(self,a,b=0):\n",
        "    if b==0:\n",
        "      return a*a\n",
        "    else:\n",
        "      return a*b\n",
        "\n",
        "\n",
        "\n",
        "\n",
        "s = shape()\n",
        "s.area(12)\n",
        "\n",
        "\n"
      ],
      "metadata": {
        "colab": {
          "base_uri": "https://localhost:8080/"
        },
        "id": "xP4HM_jqFUN8",
        "outputId": "b54eef40-eddf-40a9-bc00-6d85249ca664"
      },
      "execution_count": null,
      "outputs": [
        {
          "output_type": "execute_result",
          "data": {
            "text/plain": [
              "144"
            ]
          },
          "metadata": {},
          "execution_count": 38
        }
      ]
    },
    {
      "cell_type": "code",
      "source": [
        "s.area(1,2)"
      ],
      "metadata": {
        "colab": {
          "base_uri": "https://localhost:8080/"
        },
        "id": "2PStUEr2GQXJ",
        "outputId": "5af0d302-bb1e-464a-dd83-c44da82c96ad"
      },
      "execution_count": null,
      "outputs": [
        {
          "output_type": "execute_result",
          "data": {
            "text/plain": [
              "2"
            ]
          },
          "metadata": {},
          "execution_count": 39
        }
      ]
    },
    {
      "cell_type": "markdown",
      "source": [
        "**Abstraction**"
      ],
      "metadata": {
        "id": "mgnV8230Hsxh"
      }
    },
    {
      "cell_type": "markdown",
      "source": [
        "Hinding the internal details"
      ],
      "metadata": {
        "id": "D8YD_ZtaH063"
      }
    },
    {
      "cell_type": "code",
      "source": [
        "from abc import ABC,abstractmethod   #for abstraction we need to import this"
      ],
      "metadata": {
        "id": "0_iQYPwaGWl1"
      },
      "execution_count": null,
      "outputs": []
    },
    {
      "cell_type": "code",
      "source": [
        "class Bank(ABC):  #we need to inherit\n",
        "  def database(self):\n",
        "    print('connection databases')\n",
        "\n",
        "  @abstractmethod\n",
        "  def security(self):\n",
        "    print('security purpose ')\n",
        "\n",
        "\n",
        "#this is abstract class we need at least on abstract method"
      ],
      "metadata": {
        "id": "smX4HqvaHcq5"
      },
      "execution_count": null,
      "outputs": []
    },
    {
      "cell_type": "code",
      "source": [
        "class mobile(Bank):\n",
        "  def login(self):\n",
        "    print('loged in')\n",
        "\n",
        "  def security(self):   #we need to mentiob this method in child classs\n",
        "    print('mon security')"
      ],
      "metadata": {
        "id": "dtg-cRljJvjt"
      },
      "execution_count": null,
      "outputs": []
    },
    {
      "cell_type": "code",
      "source": [
        "onn = mobile()\n",
        "onn.database()"
      ],
      "metadata": {
        "colab": {
          "base_uri": "https://localhost:8080/"
        },
        "id": "r5ytD9FeKIGp",
        "outputId": "adfe0233-206d-4f75-f818-bf53817dccd5"
      },
      "execution_count": null,
      "outputs": [
        {
          "output_type": "stream",
          "name": "stdout",
          "text": [
            "connection databases\n"
          ]
        }
      ]
    },
    {
      "cell_type": "code",
      "source": [
        "onn.security()"
      ],
      "metadata": {
        "colab": {
          "base_uri": "https://localhost:8080/"
        },
        "id": "As95vTz1KM2_",
        "outputId": "756a096d-0209-420a-82bb-2f73c78329a9"
      },
      "execution_count": null,
      "outputs": [
        {
          "output_type": "stream",
          "name": "stdout",
          "text": [
            "mon security\n"
          ]
        }
      ]
    },
    {
      "cell_type": "code",
      "source": [],
      "metadata": {
        "id": "C2QAl9mCKRPv"
      },
      "execution_count": null,
      "outputs": []
    }
  ]
}