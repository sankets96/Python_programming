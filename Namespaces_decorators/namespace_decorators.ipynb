{
  "nbformat": 4,
  "nbformat_minor": 0,
  "metadata": {
    "colab": {
      "provenance": []
    },
    "kernelspec": {
      "name": "python3",
      "display_name": "Python 3"
    },
    "language_info": {
      "name": "python"
    }
  },
  "cells": [
    {
      "cell_type": "markdown",
      "source": [
        "**Namespaces**\n",
        "\n",
        "*   namepscas is a space that holds names(identifier)\n",
        "*   programatically speaking directory of identifier(keys) and their object(values)\n",
        "\n"
      ],
      "metadata": {
        "id": "CUPIqi5ieBo4"
      }
    },
    {
      "cell_type": "markdown",
      "source": [
        "Namespaces is dic varaibes are keys and  there values in scope"
      ],
      "metadata": {
        "id": "WBM_GOAyffhy"
      }
    },
    {
      "cell_type": "markdown",
      "source": [
        "Tyes of 4 namepscaes\n",
        "\n",
        "*   Bultin namespaces\n",
        "*   Global\n",
        "\n",
        "*   Enclosing\n",
        "*   Local\n",
        "\n",
        "\n",
        "\n"
      ],
      "metadata": {
        "id": "27TQut4reYM2"
      }
    },
    {
      "cell_type": "markdown",
      "source": [
        "**Scope and LEGB Rule**\n",
        "\n",
        "*   A scope is a textual region pf a python where a namkespace is directly assesible.\n",
        "*   The interpreter searches for a name from the insid out,looking in the local,enclosing,global,finally the built-in scope . if the insterpreter deesn't find the name in any of the location then python raise a NameError exception\n",
        "\n"
      ],
      "metadata": {
        "id": "8pUv17Ygeq6O"
      }
    },
    {
      "cell_type": "code",
      "source": [
        "#local and global\n",
        "a =2\n",
        "def temp():\n",
        "  b = 3\n",
        "  print(b)\n",
        "\n",
        "print(a)\n",
        "temp()"
      ],
      "metadata": {
        "colab": {
          "base_uri": "https://localhost:8080/"
        },
        "id": "dkcRSg9xeXXZ",
        "outputId": "ea6976f7-23f8-4112-ffd1-8671fbb95a30"
      },
      "execution_count": 49,
      "outputs": [
        {
          "output_type": "stream",
          "name": "stdout",
          "text": [
            "2\n",
            "3\n"
          ]
        }
      ]
    },
    {
      "cell_type": "code",
      "source": [
        "#global and local same var\n",
        "a =2\n",
        "def temp():\n",
        "  a=3\n",
        "  print(a)\n",
        "\n",
        "print(a)\n",
        "temp()                     #if same name var are in diffrent scope then python can act diffrent var\n"
      ],
      "metadata": {
        "colab": {
          "base_uri": "https://localhost:8080/"
        },
        "id": "0EQcRp5vgapS",
        "outputId": "c9400dac-5d9c-47b0-aa2c-624e6c366634"
      },
      "execution_count": 50,
      "outputs": [
        {
          "output_type": "stream",
          "name": "stdout",
          "text": [
            "2\n",
            "3\n"
          ]
        }
      ]
    },
    {
      "cell_type": "code",
      "source": [
        "#global var modified into local scope\n",
        "a = 3\n",
        "def temp():\n",
        "  a+=1\n",
        "  print(a)\n",
        "\n",
        "print(a)\n",
        "temp()     #u can not change the global var"
      ],
      "metadata": {
        "colab": {
          "base_uri": "https://localhost:8080/",
          "height": 349
        },
        "id": "jGZvCUg7grzl",
        "outputId": "0e709b69-b943-4511-f9f7-04a0dd1906e6"
      },
      "execution_count": 51,
      "outputs": [
        {
          "output_type": "stream",
          "name": "stdout",
          "text": [
            "3\n"
          ]
        },
        {
          "output_type": "error",
          "ename": "UnboundLocalError",
          "evalue": "ignored",
          "traceback": [
            "\u001b[0;31m---------------------------------------------------------------------------\u001b[0m",
            "\u001b[0;31mUnboundLocalError\u001b[0m                         Traceback (most recent call last)",
            "\u001b[0;32m<ipython-input-51-a9ea18316ce7>\u001b[0m in \u001b[0;36m<cell line: 8>\u001b[0;34m()\u001b[0m\n\u001b[1;32m      6\u001b[0m \u001b[0;34m\u001b[0m\u001b[0m\n\u001b[1;32m      7\u001b[0m \u001b[0mprint\u001b[0m\u001b[0;34m(\u001b[0m\u001b[0ma\u001b[0m\u001b[0;34m)\u001b[0m\u001b[0;34m\u001b[0m\u001b[0;34m\u001b[0m\u001b[0m\n\u001b[0;32m----> 8\u001b[0;31m \u001b[0mtemp\u001b[0m\u001b[0;34m(\u001b[0m\u001b[0;34m)\u001b[0m     \u001b[0;31m#u can not change the global var\u001b[0m\u001b[0;34m\u001b[0m\u001b[0;34m\u001b[0m\u001b[0m\n\u001b[0m",
            "\u001b[0;32m<ipython-input-51-a9ea18316ce7>\u001b[0m in \u001b[0;36mtemp\u001b[0;34m()\u001b[0m\n\u001b[1;32m      2\u001b[0m \u001b[0ma\u001b[0m \u001b[0;34m=\u001b[0m \u001b[0;36m3\u001b[0m\u001b[0;34m\u001b[0m\u001b[0;34m\u001b[0m\u001b[0m\n\u001b[1;32m      3\u001b[0m \u001b[0;32mdef\u001b[0m \u001b[0mtemp\u001b[0m\u001b[0;34m(\u001b[0m\u001b[0;34m)\u001b[0m\u001b[0;34m:\u001b[0m\u001b[0;34m\u001b[0m\u001b[0;34m\u001b[0m\u001b[0m\n\u001b[0;32m----> 4\u001b[0;31m   \u001b[0ma\u001b[0m\u001b[0;34m+=\u001b[0m\u001b[0;36m1\u001b[0m\u001b[0;34m\u001b[0m\u001b[0;34m\u001b[0m\u001b[0m\n\u001b[0m\u001b[1;32m      5\u001b[0m   \u001b[0mprint\u001b[0m\u001b[0;34m(\u001b[0m\u001b[0ma\u001b[0m\u001b[0;34m)\u001b[0m\u001b[0;34m\u001b[0m\u001b[0;34m\u001b[0m\u001b[0m\n\u001b[1;32m      6\u001b[0m \u001b[0;34m\u001b[0m\u001b[0m\n",
            "\u001b[0;31mUnboundLocalError\u001b[0m: local variable 'a' referenced before assignment"
          ]
        }
      ]
    },
    {
      "cell_type": "code",
      "source": [
        "#u can change with global keyword\n",
        "a =2\n",
        "def temp():\n",
        "  global a\n",
        "  a+=1\n",
        "  print(a)\n",
        "\n",
        "print(a)\n",
        "temp()"
      ],
      "metadata": {
        "colab": {
          "base_uri": "https://localhost:8080/"
        },
        "id": "iCc38b5MhVRz",
        "outputId": "672a8bc9-619a-4f17-f05d-eac162e53dfb"
      },
      "execution_count": 52,
      "outputs": [
        {
          "output_type": "stream",
          "name": "stdout",
          "text": [
            "2\n",
            "3\n"
          ]
        }
      ]
    },
    {
      "cell_type": "code",
      "source": [
        "\n",
        "def temp():\n",
        "  global a\n",
        "  a=3\n",
        "  print(a)\n",
        "\n",
        "print(a)\n",
        "temp()"
      ],
      "metadata": {
        "colab": {
          "base_uri": "https://localhost:8080/"
        },
        "id": "Y5dqRNp1hrSq",
        "outputId": "6d217c29-08b8-4e35-ade7-2faaa8579740"
      },
      "execution_count": 53,
      "outputs": [
        {
          "output_type": "stream",
          "name": "stdout",
          "text": [
            "3\n",
            "3\n"
          ]
        }
      ]
    },
    {
      "cell_type": "markdown",
      "source": [
        "**buildin scope**"
      ],
      "metadata": {
        "id": "3GiMZAK3ifo8"
      }
    },
    {
      "cell_type": "code",
      "source": [
        "print('sanket')\n",
        "import builtins\n",
        "print(dir(builtins))"
      ],
      "metadata": {
        "colab": {
          "base_uri": "https://localhost:8080/"
        },
        "id": "k_n4X5sKh-Rp",
        "outputId": "3b29a2c2-bc1c-48d1-f50d-d63773b2fbff"
      },
      "execution_count": 54,
      "outputs": [
        {
          "output_type": "stream",
          "name": "stdout",
          "text": [
            "sanket\n",
            "['ArithmeticError', 'AssertionError', 'AttributeError', 'BaseException', 'BlockingIOError', 'BrokenPipeError', 'BufferError', 'BytesWarning', 'ChildProcessError', 'ConnectionAbortedError', 'ConnectionError', 'ConnectionRefusedError', 'ConnectionResetError', 'DeprecationWarning', 'EOFError', 'Ellipsis', 'EncodingWarning', 'EnvironmentError', 'Exception', 'False', 'FileExistsError', 'FileNotFoundError', 'FloatingPointError', 'FutureWarning', 'GeneratorExit', 'IOError', 'ImportError', 'ImportWarning', 'IndentationError', 'IndexError', 'InterruptedError', 'IsADirectoryError', 'KeyError', 'KeyboardInterrupt', 'LookupError', 'MemoryError', 'ModuleNotFoundError', 'NameError', 'None', 'NotADirectoryError', 'NotImplemented', 'NotImplementedError', 'OSError', 'OverflowError', 'PendingDeprecationWarning', 'PermissionError', 'ProcessLookupError', 'RecursionError', 'ReferenceError', 'ResourceWarning', 'RuntimeError', 'RuntimeWarning', 'StopAsyncIteration', 'StopIteration', 'SyntaxError', 'SyntaxWarning', 'SystemError', 'SystemExit', 'TabError', 'TimeoutError', 'True', 'TypeError', 'UnboundLocalError', 'UnicodeDecodeError', 'UnicodeEncodeError', 'UnicodeError', 'UnicodeTranslateError', 'UnicodeWarning', 'UserWarning', 'ValueError', 'Warning', 'ZeroDivisionError', '__IPYTHON__', '__build_class__', '__debug__', '__doc__', '__import__', '__loader__', '__name__', '__package__', '__spec__', 'abs', 'aiter', 'all', 'anext', 'any', 'ascii', 'bin', 'bool', 'breakpoint', 'bytearray', 'bytes', 'callable', 'chr', 'classmethod', 'compile', 'complex', 'copyright', 'credits', 'delattr', 'dict', 'dir', 'display', 'divmod', 'enumerate', 'eval', 'exec', 'execfile', 'filter', 'float', 'format', 'frozenset', 'get_ipython', 'getattr', 'globals', 'hasattr', 'hash', 'help', 'hex', 'id', 'input', 'int', 'isinstance', 'issubclass', 'iter', 'len', 'license', 'list', 'locals', 'map', 'max', 'memoryview', 'min', 'next', 'object', 'oct', 'open', 'ord', 'pow', 'print', 'property', 'range', 'repr', 'reversed', 'round', 'runfile', 'set', 'setattr', 'slice', 'sorted', 'staticmethod', 'str', 'sum', 'super', 'tuple', 'type', 'vars', 'zip']\n"
          ]
        }
      ]
    },
    {
      "cell_type": "code",
      "source": [
        "#rename the builtin\n",
        "l = [1,2,3,4,5]\n",
        "\n",
        "print(max(l))\n",
        "# def max():\n",
        "#   print('sanket')\n",
        "\n",
        "#  max(l)"
      ],
      "metadata": {
        "colab": {
          "base_uri": "https://localhost:8080/",
          "height": 245
        },
        "id": "l2rNlt0tixwF",
        "outputId": "dcf088db-f514-4014-f50c-14f1f1c91671"
      },
      "execution_count": 55,
      "outputs": [
        {
          "output_type": "error",
          "ename": "TypeError",
          "evalue": "ignored",
          "traceback": [
            "\u001b[0;31m---------------------------------------------------------------------------\u001b[0m",
            "\u001b[0;31mTypeError\u001b[0m                                 Traceback (most recent call last)",
            "\u001b[0;32m<ipython-input-55-0ed367b062d6>\u001b[0m in \u001b[0;36m<cell line: 4>\u001b[0;34m()\u001b[0m\n\u001b[1;32m      2\u001b[0m \u001b[0ml\u001b[0m \u001b[0;34m=\u001b[0m \u001b[0;34m[\u001b[0m\u001b[0;36m1\u001b[0m\u001b[0;34m,\u001b[0m\u001b[0;36m2\u001b[0m\u001b[0;34m,\u001b[0m\u001b[0;36m3\u001b[0m\u001b[0;34m,\u001b[0m\u001b[0;36m4\u001b[0m\u001b[0;34m,\u001b[0m\u001b[0;36m5\u001b[0m\u001b[0;34m]\u001b[0m\u001b[0;34m\u001b[0m\u001b[0;34m\u001b[0m\u001b[0m\n\u001b[1;32m      3\u001b[0m \u001b[0;34m\u001b[0m\u001b[0m\n\u001b[0;32m----> 4\u001b[0;31m \u001b[0mprint\u001b[0m\u001b[0;34m(\u001b[0m\u001b[0mmax\u001b[0m\u001b[0;34m(\u001b[0m\u001b[0ml\u001b[0m\u001b[0;34m)\u001b[0m\u001b[0;34m)\u001b[0m\u001b[0;34m\u001b[0m\u001b[0;34m\u001b[0m\u001b[0m\n\u001b[0m\u001b[1;32m      5\u001b[0m \u001b[0;31m# def max():\u001b[0m\u001b[0;34m\u001b[0m\u001b[0;34m\u001b[0m\u001b[0m\n\u001b[1;32m      6\u001b[0m \u001b[0;31m#   print('sanket')\u001b[0m\u001b[0;34m\u001b[0m\u001b[0;34m\u001b[0m\u001b[0m\n",
            "\u001b[0;31mTypeError\u001b[0m: max() takes 0 positional arguments but 1 was given"
          ]
        }
      ]
    },
    {
      "cell_type": "code",
      "source": [
        "#enclosing scope\n",
        "def outer():\n",
        "  def inner():\n",
        "    print('inner fn ')\n",
        "  inner()\n",
        "  print('outer fn')\n",
        "\n",
        "outer()\n",
        "print('main flow')"
      ],
      "metadata": {
        "id": "BTjMrGo9i9rp",
        "colab": {
          "base_uri": "https://localhost:8080/"
        },
        "outputId": "776b7c55-050e-4c2d-9dd8-a4ef04f757ad"
      },
      "execution_count": 56,
      "outputs": [
        {
          "output_type": "stream",
          "name": "stdout",
          "text": [
            "inner fn \n",
            "outer fn\n",
            "main flow\n"
          ]
        }
      ]
    },
    {
      "cell_type": "markdown",
      "source": [
        "main -> global , outer fn ->enclosing scope , inner ->local scope"
      ],
      "metadata": {
        "id": "kvo9UEbYk0Xu"
      }
    },
    {
      "cell_type": "code",
      "source": [
        "def outer():\n",
        "  a=1\n",
        "  def inner():\n",
        "    a=2\n",
        "    print('inner fn ')\n",
        "    print(a)\n",
        "  inner()\n",
        "  print('outer fn')\n",
        "\n",
        "outer()\n",
        "print('main flow')"
      ],
      "metadata": {
        "colab": {
          "base_uri": "https://localhost:8080/"
        },
        "id": "1z9iTnALkRHz",
        "outputId": "d5f7d051-2bd9-43b4-f0bf-03de6f395428"
      },
      "execution_count": 57,
      "outputs": [
        {
          "output_type": "stream",
          "name": "stdout",
          "text": [
            "inner fn \n",
            "2\n",
            "outer fn\n",
            "main flow\n"
          ]
        }
      ]
    },
    {
      "cell_type": "code",
      "source": [
        "#enclosing scope var are not modified in local scope\n",
        "def outer():\n",
        "  a=1\n",
        "  def inner():\n",
        "   # nonlocal a\n",
        "    a+=1\n",
        "    print('inner fn ')\n",
        "    print(a)\n",
        "  inner()\n",
        "  print('outer fn')\n",
        "\n",
        "outer()\n",
        "print('main flow')    #u can use nonlocal keyword for that"
      ],
      "metadata": {
        "colab": {
          "base_uri": "https://localhost:8080/",
          "height": 373
        },
        "id": "RTjlNjAelEtf",
        "outputId": "31b6dc94-653b-4a81-ed5a-7c8ae4e0d570"
      },
      "execution_count": 58,
      "outputs": [
        {
          "output_type": "error",
          "ename": "UnboundLocalError",
          "evalue": "ignored",
          "traceback": [
            "\u001b[0;31m---------------------------------------------------------------------------\u001b[0m",
            "\u001b[0;31mUnboundLocalError\u001b[0m                         Traceback (most recent call last)",
            "\u001b[0;32m<ipython-input-58-00e9b9c29749>\u001b[0m in \u001b[0;36m<cell line: 12>\u001b[0;34m()\u001b[0m\n\u001b[1;32m     10\u001b[0m   \u001b[0mprint\u001b[0m\u001b[0;34m(\u001b[0m\u001b[0;34m'outer fn'\u001b[0m\u001b[0;34m)\u001b[0m\u001b[0;34m\u001b[0m\u001b[0;34m\u001b[0m\u001b[0m\n\u001b[1;32m     11\u001b[0m \u001b[0;34m\u001b[0m\u001b[0m\n\u001b[0;32m---> 12\u001b[0;31m \u001b[0mouter\u001b[0m\u001b[0;34m(\u001b[0m\u001b[0;34m)\u001b[0m\u001b[0;34m\u001b[0m\u001b[0;34m\u001b[0m\u001b[0m\n\u001b[0m\u001b[1;32m     13\u001b[0m \u001b[0mprint\u001b[0m\u001b[0;34m(\u001b[0m\u001b[0;34m'main flow'\u001b[0m\u001b[0;34m)\u001b[0m    \u001b[0;31m#u can use nonlocal keyword for that\u001b[0m\u001b[0;34m\u001b[0m\u001b[0;34m\u001b[0m\u001b[0m\n",
            "\u001b[0;32m<ipython-input-58-00e9b9c29749>\u001b[0m in \u001b[0;36mouter\u001b[0;34m()\u001b[0m\n\u001b[1;32m      7\u001b[0m     \u001b[0mprint\u001b[0m\u001b[0;34m(\u001b[0m\u001b[0;34m'inner fn '\u001b[0m\u001b[0;34m)\u001b[0m\u001b[0;34m\u001b[0m\u001b[0;34m\u001b[0m\u001b[0m\n\u001b[1;32m      8\u001b[0m     \u001b[0mprint\u001b[0m\u001b[0;34m(\u001b[0m\u001b[0ma\u001b[0m\u001b[0;34m)\u001b[0m\u001b[0;34m\u001b[0m\u001b[0;34m\u001b[0m\u001b[0m\n\u001b[0;32m----> 9\u001b[0;31m   \u001b[0minner\u001b[0m\u001b[0;34m(\u001b[0m\u001b[0;34m)\u001b[0m\u001b[0;34m\u001b[0m\u001b[0;34m\u001b[0m\u001b[0m\n\u001b[0m\u001b[1;32m     10\u001b[0m   \u001b[0mprint\u001b[0m\u001b[0;34m(\u001b[0m\u001b[0;34m'outer fn'\u001b[0m\u001b[0;34m)\u001b[0m\u001b[0;34m\u001b[0m\u001b[0;34m\u001b[0m\u001b[0m\n\u001b[1;32m     11\u001b[0m \u001b[0;34m\u001b[0m\u001b[0m\n",
            "\u001b[0;32m<ipython-input-58-00e9b9c29749>\u001b[0m in \u001b[0;36minner\u001b[0;34m()\u001b[0m\n\u001b[1;32m      4\u001b[0m   \u001b[0;32mdef\u001b[0m \u001b[0minner\u001b[0m\u001b[0;34m(\u001b[0m\u001b[0;34m)\u001b[0m\u001b[0;34m:\u001b[0m\u001b[0;34m\u001b[0m\u001b[0;34m\u001b[0m\u001b[0m\n\u001b[1;32m      5\u001b[0m    \u001b[0;31m# nonlocal a\u001b[0m\u001b[0;34m\u001b[0m\u001b[0;34m\u001b[0m\u001b[0m\n\u001b[0;32m----> 6\u001b[0;31m     \u001b[0ma\u001b[0m\u001b[0;34m+=\u001b[0m\u001b[0;36m1\u001b[0m\u001b[0;34m\u001b[0m\u001b[0;34m\u001b[0m\u001b[0m\n\u001b[0m\u001b[1;32m      7\u001b[0m     \u001b[0mprint\u001b[0m\u001b[0;34m(\u001b[0m\u001b[0;34m'inner fn '\u001b[0m\u001b[0;34m)\u001b[0m\u001b[0;34m\u001b[0m\u001b[0;34m\u001b[0m\u001b[0m\n\u001b[1;32m      8\u001b[0m     \u001b[0mprint\u001b[0m\u001b[0;34m(\u001b[0m\u001b[0ma\u001b[0m\u001b[0;34m)\u001b[0m\u001b[0;34m\u001b[0m\u001b[0;34m\u001b[0m\u001b[0m\n",
            "\u001b[0;31mUnboundLocalError\u001b[0m: local variable 'a' referenced before assignment"
          ]
        }
      ]
    },
    {
      "cell_type": "code",
      "source": [
        "def outer():\n",
        "  a=1\n",
        "  def inner():\n",
        "   nonlocal a\n",
        "   a+=1\n",
        "   print('inner fn ')\n",
        "   print(a)\n",
        "  inner()\n",
        "  print('outer fn')\n",
        "\n",
        "outer()\n",
        "print('main flow')    #u can use nonlocal keyword for that"
      ],
      "metadata": {
        "colab": {
          "base_uri": "https://localhost:8080/"
        },
        "id": "8Io1ow_HlmfI",
        "outputId": "18fb213d-aba0-4263-c6cf-1db18b508558"
      },
      "execution_count": 59,
      "outputs": [
        {
          "output_type": "stream",
          "name": "stdout",
          "text": [
            "inner fn \n",
            "2\n",
            "outer fn\n",
            "main flow\n"
          ]
        }
      ]
    },
    {
      "cell_type": "markdown",
      "source": [
        "**Decorators**\n",
        "\n",
        "*    decorators in python is a function that recives another function input and add some functionallity(decoration)to and it and return it.\n",
        "\n",
        "*   this can happend becoz are 1st class citizaen\n",
        "*   2 types of decorators in python\n",
        "\n",
        "*   buildtin : @staticmethod,@classmethod,@abstractmethod and @property\n",
        "*   Userdefined: : that we programmer can create according to our need\n",
        "\n",
        "\n",
        "\n",
        "\n",
        "\n",
        "\n"
      ],
      "metadata": {
        "id": "WcErjVcRmQqV"
      }
    },
    {
      "cell_type": "markdown",
      "source": [
        "decorator method is nothing but function that take input function add some functionallity"
      ],
      "metadata": {
        "id": "xg16BBc8qXLG"
      }
    },
    {
      "cell_type": "code",
      "source": [
        "#python are 1st class function\n",
        "def temp():\n",
        "  print('sanket')\n",
        "\n",
        "a = temp\n",
        "a()"
      ],
      "metadata": {
        "colab": {
          "base_uri": "https://localhost:8080/"
        },
        "id": "YMv3wWNIl4RQ",
        "outputId": "22e7f0bc-8058-43c2-c37d-88bd9a190577"
      },
      "execution_count": null,
      "outputs": [
        {
          "output_type": "stream",
          "name": "stdout",
          "text": [
            "sanket\n"
          ]
        }
      ]
    },
    {
      "cell_type": "code",
      "source": [
        "#decorator foundation\n",
        "def modified(func,num):\n",
        "  return func(num)\n",
        "\n",
        "def square(num):\n",
        "  return num**2\n",
        "\n",
        "modified(square,2)"
      ],
      "metadata": {
        "colab": {
          "base_uri": "https://localhost:8080/"
        },
        "id": "jkPuS67qrED8",
        "outputId": "f789b837-97f9-4abb-fcd3-87767dede840"
      },
      "execution_count": null,
      "outputs": [
        {
          "output_type": "execute_result",
          "data": {
            "text/plain": [
              "4"
            ]
          },
          "metadata": {},
          "execution_count": 37
        }
      ]
    },
    {
      "cell_type": "code",
      "source": [
        "#simple decorator\n",
        "\n",
        "def my_decorator(func):\n",
        "  def wrapper():\n",
        "    print('****************************')\n",
        "    func()\n",
        "    print('******************************')\n",
        "  return wrapper\n",
        "\n",
        "def hellow():\n",
        "  print('hellow sanket')\n",
        "\n",
        "\n",
        "b = my_decorator(hellow)\n",
        "b()\n",
        "\n",
        "\n"
      ],
      "metadata": {
        "id": "27Y1g7GyrwX-",
        "colab": {
          "base_uri": "https://localhost:8080/"
        },
        "outputId": "790a1693-5561-42ee-fbe0-fad744872d42"
      },
      "execution_count": 42,
      "outputs": [
        {
          "output_type": "stream",
          "name": "stdout",
          "text": [
            "****************************\n",
            "hellow sanket\n",
            "******************************\n"
          ]
        }
      ]
    },
    {
      "cell_type": "code",
      "source": [
        "def my_decorator(func):\n",
        "  def wrapper():\n",
        "    print('****************************')\n",
        "    func()\n",
        "    print('******************************')\n",
        "  return wrapper\n",
        "\n",
        "#decorator\n",
        "@my_decorator\n",
        "def hellow():\n",
        "  print('hellow sanket')\n",
        "\n",
        "\n",
        "a=hellow()\n",
        "\n",
        "\n"
      ],
      "metadata": {
        "id": "vRYTCf-Us4hi",
        "colab": {
          "base_uri": "https://localhost:8080/"
        },
        "outputId": "fc1b4022-50f8-4199-d0be-e14dbcf57e1e"
      },
      "execution_count": 43,
      "outputs": [
        {
          "output_type": "stream",
          "name": "stdout",
          "text": [
            "****************************\n",
            "hellow sanket\n",
            "******************************\n"
          ]
        }
      ]
    },
    {
      "cell_type": "code",
      "source": [
        "import time\n",
        "def deco(func):\n",
        "  def wrapper():\n",
        "    start=time.time()\n",
        "    func()\n",
        "    print(\"time is \",time.time()-start)\n",
        "  return wrapper\n",
        "\n",
        "\n",
        "@deco\n",
        "def hp():\n",
        "  print('welcome to code')\n",
        "  time.sleep(4)\n",
        "\n",
        "c = hp()\n"
      ],
      "metadata": {
        "colab": {
          "base_uri": "https://localhost:8080/"
        },
        "id": "vSrgEgJk0F1r",
        "outputId": "7cd724b4-e3e4-44f5-c8b7-8aaea6b99367"
      },
      "execution_count": 44,
      "outputs": [
        {
          "output_type": "stream",
          "name": "stdout",
          "text": [
            "welcome to code\n",
            "time is  4.006148338317871\n"
          ]
        }
      ]
    },
    {
      "cell_type": "code",
      "source": [
        "import time\n",
        "def deco(func):\n",
        "  def wrapper(*args):\n",
        "    start=time.time()\n",
        "    func(*args)\n",
        "    print(\"time is \",time.time()-start)\n",
        "  return wrapper\n",
        "\n",
        "@deco\n",
        "def sq(num):\n",
        "  print(num**2)\n",
        "\n",
        "\n",
        "sq(3)       #this give an error so u can pass args"
      ],
      "metadata": {
        "colab": {
          "base_uri": "https://localhost:8080/"
        },
        "id": "6UCnNF0g1OJe",
        "outputId": "fe405fea-4131-456a-b1d8-a18799c56b52"
      },
      "execution_count": 46,
      "outputs": [
        {
          "output_type": "stream",
          "name": "stdout",
          "text": [
            "9\n",
            "time is  0.0017840862274169922\n"
          ]
        }
      ]
    },
    {
      "cell_type": "code",
      "source": [
        "#decorator run when datatypes is suitable\n",
        "#decorator can accept also input\n",
        "def check_data(data_typ):\n",
        "  def outer_wrapper(func):\n",
        "    def inner_wrapper(*args):\n",
        "      if type(args[0])== data_typ:\n",
        "        func(*args)\n",
        "      else:\n",
        "        raise TypeError('Not suitable')\n",
        "    return inner_wrapper\n",
        "  return outer_wrapper\n",
        "\n",
        "@check_data(int)\n",
        "def squ(num):\n",
        "  print(num**2)\n",
        "\n",
        "\n",
        "squ(3)\n",
        "\n",
        "@check_data(str)\n",
        "def display(s):\n",
        "  print('display ',s)\n",
        "\n",
        "\n",
        "display('ssss')\n",
        "\n"
      ],
      "metadata": {
        "colab": {
          "base_uri": "https://localhost:8080/"
        },
        "id": "FgIkpQIB16ay",
        "outputId": "cb86dd73-306b-40a5-97fd-9a106fead675"
      },
      "execution_count": 48,
      "outputs": [
        {
          "output_type": "stream",
          "name": "stdout",
          "text": [
            "9\n",
            "display  ssss\n"
          ]
        }
      ]
    },
    {
      "cell_type": "code",
      "source": [],
      "metadata": {
        "id": "hMnPEGjT4d5y"
      },
      "execution_count": null,
      "outputs": []
    }
  ]
}