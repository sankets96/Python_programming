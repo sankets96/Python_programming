{
  "nbformat": 4,
  "nbformat_minor": 0,
  "metadata": {
    "colab": {
      "provenance": []
    },
    "kernelspec": {
      "name": "python3",
      "display_name": "Python 3"
    },
    "language_info": {
      "name": "python"
    }
  },
  "cells": [
    {
      "cell_type": "markdown",
      "source": [
        "**Generators**\n",
        "\n",
        "*   simple way of creating iterators\n",
        "\n",
        "\n"
      ],
      "metadata": {
        "id": "2qj_IEnyh86w"
      }
    },
    {
      "cell_type": "code",
      "source": [
        "l = [x for x in range(100000)]"
      ],
      "metadata": {
        "id": "Sh9EHbxiiG5r"
      },
      "execution_count": 4,
      "outputs": []
    },
    {
      "cell_type": "code",
      "source": [
        "import sys\n",
        "sys.getsizeof(l)"
      ],
      "metadata": {
        "colab": {
          "base_uri": "https://localhost:8080/"
        },
        "id": "9aVQa4QpiYGL",
        "outputId": "b5113d41-0f11-4bba-a605-337e47d33439"
      },
      "execution_count": 5,
      "outputs": [
        {
          "output_type": "execute_result",
          "data": {
            "text/plain": [
              "800984"
            ]
          },
          "metadata": {},
          "execution_count": 5
        }
      ]
    },
    {
      "cell_type": "code",
      "source": [
        "x = range(100000)\n",
        "sys.getsizeof(x)         #it req small amount of memmory it is good example of iteratos"
      ],
      "metadata": {
        "colab": {
          "base_uri": "https://localhost:8080/"
        },
        "id": "fdC45vw0idWP",
        "outputId": "3e24e2f3-8a48-4413-9905-613700f59521"
      },
      "execution_count": 7,
      "outputs": [
        {
          "output_type": "execute_result",
          "data": {
            "text/plain": [
              "48"
            ]
          },
          "metadata": {},
          "execution_count": 7
        }
      ]
    },
    {
      "cell_type": "markdown",
      "source": [
        "\n",
        "\n",
        "*   Generator function not return statment it contain yeild statment\n",
        "*   function return gnerator\n",
        "\n"
      ],
      "metadata": {
        "id": "_5-4P5_ljOot"
      }
    },
    {
      "cell_type": "code",
      "source": [
        "#example\n",
        "def gen_demo():\n",
        "  yield 'First'\n",
        "  yield 'Second'\n",
        "  yield 'Third'\n"
      ],
      "metadata": {
        "id": "oBAjNa18irPr"
      },
      "execution_count": 11,
      "outputs": []
    },
    {
      "cell_type": "code",
      "source": [
        "a = gen_demo()\n",
        "next(a)"
      ],
      "metadata": {
        "colab": {
          "base_uri": "https://localhost:8080/",
          "height": 35
        },
        "id": "ZQOqnzsojGrK",
        "outputId": "de91d72e-646e-4ea3-ae82-452588768d08"
      },
      "execution_count": 12,
      "outputs": [
        {
          "output_type": "execute_result",
          "data": {
            "text/plain": [
              "'First'"
            ],
            "application/vnd.google.colaboratory.intrinsic+json": {
              "type": "string"
            }
          },
          "metadata": {},
          "execution_count": 12
        }
      ]
    },
    {
      "cell_type": "code",
      "source": [
        "next(a)"
      ],
      "metadata": {
        "colab": {
          "base_uri": "https://localhost:8080/",
          "height": 35
        },
        "id": "zOF_Qc3NjKRM",
        "outputId": "df88f58e-a943-490c-d979-c819e41199b4"
      },
      "execution_count": 13,
      "outputs": [
        {
          "output_type": "execute_result",
          "data": {
            "text/plain": [
              "'Second'"
            ],
            "application/vnd.google.colaboratory.intrinsic+json": {
              "type": "string"
            }
          },
          "metadata": {},
          "execution_count": 13
        }
      ]
    },
    {
      "cell_type": "code",
      "source": [
        "for i in a:\n",
        "  print(i)       #it iterate only one times becox they can memories how many times already thay called.   work own brain"
      ],
      "metadata": {
        "colab": {
          "base_uri": "https://localhost:8080/"
        },
        "id": "XPvOUVdZjL9y",
        "outputId": "a4602a14-aed2-4abf-f7ce-cd21a97fe5fb"
      },
      "execution_count": 14,
      "outputs": [
        {
          "output_type": "stream",
          "name": "stdout",
          "text": [
            "Third\n"
          ]
        }
      ]
    },
    {
      "cell_type": "code",
      "source": [
        "#example\n",
        "def sq(num):\n",
        "  for i in range(1,num):\n",
        "    yield i**2\n",
        "\n",
        "gen = sq(10)\n",
        "next(gen)"
      ],
      "metadata": {
        "colab": {
          "base_uri": "https://localhost:8080/"
        },
        "id": "j7zvKIMxjfCd",
        "outputId": "b85eb5c9-6f6b-40b4-994c-3e7ad266be3e"
      },
      "execution_count": 15,
      "outputs": [
        {
          "output_type": "execute_result",
          "data": {
            "text/plain": [
              "1"
            ]
          },
          "metadata": {},
          "execution_count": 15
        }
      ]
    },
    {
      "cell_type": "code",
      "source": [
        "next(gen)"
      ],
      "metadata": {
        "colab": {
          "base_uri": "https://localhost:8080/"
        },
        "id": "lQh8978CkaqM",
        "outputId": "ed0fe22a-3dbe-43db-af05-f3dbce7bd74d"
      },
      "execution_count": 16,
      "outputs": [
        {
          "output_type": "execute_result",
          "data": {
            "text/plain": [
              "4"
            ]
          },
          "metadata": {},
          "execution_count": 16
        }
      ]
    },
    {
      "cell_type": "code",
      "source": [
        "for i in gen:\n",
        "  print(i)      #clearly seen they can memories the how many times they excuated already"
      ],
      "metadata": {
        "colab": {
          "base_uri": "https://localhost:8080/"
        },
        "id": "Fi2nUEpHkcKS",
        "outputId": "5621743b-8d0d-4a6c-a947-88724cf4fe57"
      },
      "execution_count": 17,
      "outputs": [
        {
          "output_type": "stream",
          "name": "stdout",
          "text": [
            "9\n",
            "16\n",
            "25\n",
            "36\n",
            "49\n",
            "64\n",
            "81\n"
          ]
        }
      ]
    },
    {
      "cell_type": "markdown",
      "source": [
        "**Range_function**"
      ],
      "metadata": {
        "id": "rGLrrWC8kuB_"
      }
    },
    {
      "cell_type": "code",
      "source": [
        "def mee(start,end):\n",
        "  for i in range(start,end):\n",
        "    yield i\n",
        "\n",
        "\n",
        "gg = mee(1,10)\n",
        "for i in gg:\n",
        "  print(i)"
      ],
      "metadata": {
        "colab": {
          "base_uri": "https://localhost:8080/"
        },
        "id": "tS-etop0kwd1",
        "outputId": "810ffb41-04b6-47ad-d744-641513c2b9a7"
      },
      "execution_count": 20,
      "outputs": [
        {
          "output_type": "stream",
          "name": "stdout",
          "text": [
            "1\n",
            "2\n",
            "3\n",
            "4\n",
            "5\n",
            "6\n",
            "7\n",
            "8\n",
            "9\n"
          ]
        }
      ]
    },
    {
      "cell_type": "markdown",
      "source": [
        "**Generator expression**"
      ],
      "metadata": {
        "id": "UPlDHOgSlQLA"
      }
    },
    {
      "cell_type": "code",
      "source": [
        "#for list\n",
        "x = [x for x in range(1,10)]      #list compression\n",
        "gen = (i**2 for i in range(1,100))        #generator expression"
      ],
      "metadata": {
        "id": "oCVgXCIplBlE"
      },
      "execution_count": 22,
      "outputs": []
    },
    {
      "cell_type": "code",
      "source": [],
      "metadata": {
        "id": "athsgpMIlehi"
      },
      "execution_count": null,
      "outputs": []
    }
  ]
}